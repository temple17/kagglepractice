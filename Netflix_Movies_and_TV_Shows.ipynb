{
  "nbformat": 4,
  "nbformat_minor": 0,
  "metadata": {
    "colab": {
      "name": "Netflix_Movies_and_TV_Shows.ipynb",
      "provenance": [],
      "collapsed_sections": [],
      "mount_file_id": "1FaiuVRR9yoKT0laWnxaxvGO47fpSjfy1",
      "authorship_tag": "ABX9TyPpkxW83xIx7bngLJaJThJ8",
      "include_colab_link": true
    },
    "kernelspec": {
      "name": "python3",
      "display_name": "Python 3"
    },
    "language_info": {
      "name": "python"
    },
    "gpuClass": "standard"
  },
  "cells": [
    {
      "cell_type": "markdown",
      "metadata": {
        "id": "view-in-github",
        "colab_type": "text"
      },
      "source": [
        "<a href=\"https://colab.research.google.com/github/temple17/kagglepractice/blob/main/Netflix_Movies_and_TV_Shows.ipynb\" target=\"_parent\"><img src=\"https://colab.research.google.com/assets/colab-badge.svg\" alt=\"Open In Colab\"/></a>"
      ]
    },
    {
      "cell_type": "markdown",
      "source": [
        "# Import"
      ],
      "metadata": {
        "id": "h31O9KN6N8Tm"
      }
    },
    {
      "cell_type": "code",
      "source": [
        "import pandas as pd\n",
        "import numpy as np\n",
        "import matplotlib.pyplot as plt\n",
        "import seaborn as sns\n",
        "%matplotlib inline"
      ],
      "metadata": {
        "id": "8HI_PmCcOeB8"
      },
      "execution_count": null,
      "outputs": []
    },
    {
      "cell_type": "markdown",
      "source": [
        "# Load the data"
      ],
      "metadata": {
        "id": "vc_BK7uYQzBP"
      }
    },
    {
      "cell_type": "code",
      "source": [
        "df = pd.read_csv('/content/drive/MyDrive/kaggle/Netflix Movies and TV Shows/dataset/netflix_titles.csv')"
      ],
      "metadata": {
        "id": "zsuenDeuQ1uZ"
      },
      "execution_count": null,
      "outputs": []
    },
    {
      "cell_type": "markdown",
      "source": [
        "# Quick overview"
      ],
      "metadata": {
        "id": "d_8itOf4RAAs"
      }
    },
    {
      "cell_type": "code",
      "source": [
        "df.head()"
      ],
      "metadata": {
        "colab": {
          "base_uri": "https://localhost:8080/",
          "height": 441
        },
        "id": "ex-wBelHQ9GT",
        "outputId": "00ca2232-4d4f-4959-9634-d4076a10f3a3"
      },
      "execution_count": null,
      "outputs": [
        {
          "output_type": "execute_result",
          "data": {
            "text/plain": [
              "  show_id     type                  title         director  \\\n",
              "0      s1    Movie   Dick Johnson Is Dead  Kirsten Johnson   \n",
              "1      s2  TV Show          Blood & Water              NaN   \n",
              "2      s3  TV Show              Ganglands  Julien Leclercq   \n",
              "3      s4  TV Show  Jailbirds New Orleans              NaN   \n",
              "4      s5  TV Show           Kota Factory              NaN   \n",
              "\n",
              "                                                cast        country  \\\n",
              "0                                                NaN  United States   \n",
              "1  Ama Qamata, Khosi Ngema, Gail Mabalane, Thaban...   South Africa   \n",
              "2  Sami Bouajila, Tracy Gotoas, Samuel Jouy, Nabi...            NaN   \n",
              "3                                                NaN            NaN   \n",
              "4  Mayur More, Jitendra Kumar, Ranjan Raj, Alam K...          India   \n",
              "\n",
              "           date_added  release_year rating   duration  \\\n",
              "0  September 25, 2021          2020  PG-13     90 min   \n",
              "1  September 24, 2021          2021  TV-MA  2 Seasons   \n",
              "2  September 24, 2021          2021  TV-MA   1 Season   \n",
              "3  September 24, 2021          2021  TV-MA   1 Season   \n",
              "4  September 24, 2021          2021  TV-MA  2 Seasons   \n",
              "\n",
              "                                           listed_in  \\\n",
              "0                                      Documentaries   \n",
              "1    International TV Shows, TV Dramas, TV Mysteries   \n",
              "2  Crime TV Shows, International TV Shows, TV Act...   \n",
              "3                             Docuseries, Reality TV   \n",
              "4  International TV Shows, Romantic TV Shows, TV ...   \n",
              "\n",
              "                                         description  \n",
              "0  As her father nears the end of his life, filmm...  \n",
              "1  After crossing paths at a party, a Cape Town t...  \n",
              "2  To protect his family from a powerful drug lor...  \n",
              "3  Feuds, flirtations and toilet talk go down amo...  \n",
              "4  In a city of coaching centers known to train I...  "
            ],
            "text/html": [
              "\n",
              "  <div id=\"df-e649a904-fc1a-4303-a6c0-3c1c4cce1394\">\n",
              "    <div class=\"colab-df-container\">\n",
              "      <div>\n",
              "<style scoped>\n",
              "    .dataframe tbody tr th:only-of-type {\n",
              "        vertical-align: middle;\n",
              "    }\n",
              "\n",
              "    .dataframe tbody tr th {\n",
              "        vertical-align: top;\n",
              "    }\n",
              "\n",
              "    .dataframe thead th {\n",
              "        text-align: right;\n",
              "    }\n",
              "</style>\n",
              "<table border=\"1\" class=\"dataframe\">\n",
              "  <thead>\n",
              "    <tr style=\"text-align: right;\">\n",
              "      <th></th>\n",
              "      <th>show_id</th>\n",
              "      <th>type</th>\n",
              "      <th>title</th>\n",
              "      <th>director</th>\n",
              "      <th>cast</th>\n",
              "      <th>country</th>\n",
              "      <th>date_added</th>\n",
              "      <th>release_year</th>\n",
              "      <th>rating</th>\n",
              "      <th>duration</th>\n",
              "      <th>listed_in</th>\n",
              "      <th>description</th>\n",
              "    </tr>\n",
              "  </thead>\n",
              "  <tbody>\n",
              "    <tr>\n",
              "      <th>0</th>\n",
              "      <td>s1</td>\n",
              "      <td>Movie</td>\n",
              "      <td>Dick Johnson Is Dead</td>\n",
              "      <td>Kirsten Johnson</td>\n",
              "      <td>NaN</td>\n",
              "      <td>United States</td>\n",
              "      <td>September 25, 2021</td>\n",
              "      <td>2020</td>\n",
              "      <td>PG-13</td>\n",
              "      <td>90 min</td>\n",
              "      <td>Documentaries</td>\n",
              "      <td>As her father nears the end of his life, filmm...</td>\n",
              "    </tr>\n",
              "    <tr>\n",
              "      <th>1</th>\n",
              "      <td>s2</td>\n",
              "      <td>TV Show</td>\n",
              "      <td>Blood &amp; Water</td>\n",
              "      <td>NaN</td>\n",
              "      <td>Ama Qamata, Khosi Ngema, Gail Mabalane, Thaban...</td>\n",
              "      <td>South Africa</td>\n",
              "      <td>September 24, 2021</td>\n",
              "      <td>2021</td>\n",
              "      <td>TV-MA</td>\n",
              "      <td>2 Seasons</td>\n",
              "      <td>International TV Shows, TV Dramas, TV Mysteries</td>\n",
              "      <td>After crossing paths at a party, a Cape Town t...</td>\n",
              "    </tr>\n",
              "    <tr>\n",
              "      <th>2</th>\n",
              "      <td>s3</td>\n",
              "      <td>TV Show</td>\n",
              "      <td>Ganglands</td>\n",
              "      <td>Julien Leclercq</td>\n",
              "      <td>Sami Bouajila, Tracy Gotoas, Samuel Jouy, Nabi...</td>\n",
              "      <td>NaN</td>\n",
              "      <td>September 24, 2021</td>\n",
              "      <td>2021</td>\n",
              "      <td>TV-MA</td>\n",
              "      <td>1 Season</td>\n",
              "      <td>Crime TV Shows, International TV Shows, TV Act...</td>\n",
              "      <td>To protect his family from a powerful drug lor...</td>\n",
              "    </tr>\n",
              "    <tr>\n",
              "      <th>3</th>\n",
              "      <td>s4</td>\n",
              "      <td>TV Show</td>\n",
              "      <td>Jailbirds New Orleans</td>\n",
              "      <td>NaN</td>\n",
              "      <td>NaN</td>\n",
              "      <td>NaN</td>\n",
              "      <td>September 24, 2021</td>\n",
              "      <td>2021</td>\n",
              "      <td>TV-MA</td>\n",
              "      <td>1 Season</td>\n",
              "      <td>Docuseries, Reality TV</td>\n",
              "      <td>Feuds, flirtations and toilet talk go down amo...</td>\n",
              "    </tr>\n",
              "    <tr>\n",
              "      <th>4</th>\n",
              "      <td>s5</td>\n",
              "      <td>TV Show</td>\n",
              "      <td>Kota Factory</td>\n",
              "      <td>NaN</td>\n",
              "      <td>Mayur More, Jitendra Kumar, Ranjan Raj, Alam K...</td>\n",
              "      <td>India</td>\n",
              "      <td>September 24, 2021</td>\n",
              "      <td>2021</td>\n",
              "      <td>TV-MA</td>\n",
              "      <td>2 Seasons</td>\n",
              "      <td>International TV Shows, Romantic TV Shows, TV ...</td>\n",
              "      <td>In a city of coaching centers known to train I...</td>\n",
              "    </tr>\n",
              "  </tbody>\n",
              "</table>\n",
              "</div>\n",
              "      <button class=\"colab-df-convert\" onclick=\"convertToInteractive('df-e649a904-fc1a-4303-a6c0-3c1c4cce1394')\"\n",
              "              title=\"Convert this dataframe to an interactive table.\"\n",
              "              style=\"display:none;\">\n",
              "        \n",
              "  <svg xmlns=\"http://www.w3.org/2000/svg\" height=\"24px\"viewBox=\"0 0 24 24\"\n",
              "       width=\"24px\">\n",
              "    <path d=\"M0 0h24v24H0V0z\" fill=\"none\"/>\n",
              "    <path d=\"M18.56 5.44l.94 2.06.94-2.06 2.06-.94-2.06-.94-.94-2.06-.94 2.06-2.06.94zm-11 1L8.5 8.5l.94-2.06 2.06-.94-2.06-.94L8.5 2.5l-.94 2.06-2.06.94zm10 10l.94 2.06.94-2.06 2.06-.94-2.06-.94-.94-2.06-.94 2.06-2.06.94z\"/><path d=\"M17.41 7.96l-1.37-1.37c-.4-.4-.92-.59-1.43-.59-.52 0-1.04.2-1.43.59L10.3 9.45l-7.72 7.72c-.78.78-.78 2.05 0 2.83L4 21.41c.39.39.9.59 1.41.59.51 0 1.02-.2 1.41-.59l7.78-7.78 2.81-2.81c.8-.78.8-2.07 0-2.86zM5.41 20L4 18.59l7.72-7.72 1.47 1.35L5.41 20z\"/>\n",
              "  </svg>\n",
              "      </button>\n",
              "      \n",
              "  <style>\n",
              "    .colab-df-container {\n",
              "      display:flex;\n",
              "      flex-wrap:wrap;\n",
              "      gap: 12px;\n",
              "    }\n",
              "\n",
              "    .colab-df-convert {\n",
              "      background-color: #E8F0FE;\n",
              "      border: none;\n",
              "      border-radius: 50%;\n",
              "      cursor: pointer;\n",
              "      display: none;\n",
              "      fill: #1967D2;\n",
              "      height: 32px;\n",
              "      padding: 0 0 0 0;\n",
              "      width: 32px;\n",
              "    }\n",
              "\n",
              "    .colab-df-convert:hover {\n",
              "      background-color: #E2EBFA;\n",
              "      box-shadow: 0px 1px 2px rgba(60, 64, 67, 0.3), 0px 1px 3px 1px rgba(60, 64, 67, 0.15);\n",
              "      fill: #174EA6;\n",
              "    }\n",
              "\n",
              "    [theme=dark] .colab-df-convert {\n",
              "      background-color: #3B4455;\n",
              "      fill: #D2E3FC;\n",
              "    }\n",
              "\n",
              "    [theme=dark] .colab-df-convert:hover {\n",
              "      background-color: #434B5C;\n",
              "      box-shadow: 0px 1px 3px 1px rgba(0, 0, 0, 0.15);\n",
              "      filter: drop-shadow(0px 1px 2px rgba(0, 0, 0, 0.3));\n",
              "      fill: #FFFFFF;\n",
              "    }\n",
              "  </style>\n",
              "\n",
              "      <script>\n",
              "        const buttonEl =\n",
              "          document.querySelector('#df-e649a904-fc1a-4303-a6c0-3c1c4cce1394 button.colab-df-convert');\n",
              "        buttonEl.style.display =\n",
              "          google.colab.kernel.accessAllowed ? 'block' : 'none';\n",
              "\n",
              "        async function convertToInteractive(key) {\n",
              "          const element = document.querySelector('#df-e649a904-fc1a-4303-a6c0-3c1c4cce1394');\n",
              "          const dataTable =\n",
              "            await google.colab.kernel.invokeFunction('convertToInteractive',\n",
              "                                                     [key], {});\n",
              "          if (!dataTable) return;\n",
              "\n",
              "          const docLinkHtml = 'Like what you see? Visit the ' +\n",
              "            '<a target=\"_blank\" href=https://colab.research.google.com/notebooks/data_table.ipynb>data table notebook</a>'\n",
              "            + ' to learn more about interactive tables.';\n",
              "          element.innerHTML = '';\n",
              "          dataTable['output_type'] = 'display_data';\n",
              "          await google.colab.output.renderOutput(dataTable, element);\n",
              "          const docLink = document.createElement('div');\n",
              "          docLink.innerHTML = docLinkHtml;\n",
              "          element.appendChild(docLink);\n",
              "        }\n",
              "      </script>\n",
              "    </div>\n",
              "  </div>\n",
              "  "
            ]
          },
          "metadata": {},
          "execution_count": 3
        }
      ]
    },
    {
      "cell_type": "code",
      "source": [
        "df.info()"
      ],
      "metadata": {
        "colab": {
          "base_uri": "https://localhost:8080/"
        },
        "id": "49cBJlAKQ-C7",
        "outputId": "77a0573e-aa3d-40e2-977b-fd965f19fc4f"
      },
      "execution_count": null,
      "outputs": [
        {
          "output_type": "stream",
          "name": "stdout",
          "text": [
            "<class 'pandas.core.frame.DataFrame'>\n",
            "RangeIndex: 8807 entries, 0 to 8806\n",
            "Data columns (total 12 columns):\n",
            " #   Column        Non-Null Count  Dtype \n",
            "---  ------        --------------  ----- \n",
            " 0   show_id       8807 non-null   object\n",
            " 1   type          8807 non-null   object\n",
            " 2   title         8807 non-null   object\n",
            " 3   director      6173 non-null   object\n",
            " 4   cast          7982 non-null   object\n",
            " 5   country       7976 non-null   object\n",
            " 6   date_added    8797 non-null   object\n",
            " 7   release_year  8807 non-null   int64 \n",
            " 8   rating        8803 non-null   object\n",
            " 9   duration      8804 non-null   object\n",
            " 10  listed_in     8807 non-null   object\n",
            " 11  description   8807 non-null   object\n",
            "dtypes: int64(1), object(11)\n",
            "memory usage: 825.8+ KB\n"
          ]
        }
      ]
    },
    {
      "cell_type": "markdown",
      "source": [
        "- There are some missing data in 'director', 'cast', 'country', 'date_added', 'rating', 'duration'"
      ],
      "metadata": {
        "id": "WFVBlcLcQ-72"
      }
    },
    {
      "cell_type": "code",
      "source": [
        "df.isnull().sum()"
      ],
      "metadata": {
        "colab": {
          "base_uri": "https://localhost:8080/"
        },
        "id": "CnQ6ty8TR_TE",
        "outputId": "12f34d56-d1de-4e4b-efbe-d9531f01486c"
      },
      "execution_count": null,
      "outputs": [
        {
          "output_type": "execute_result",
          "data": {
            "text/plain": [
              "show_id            0\n",
              "type               0\n",
              "title              0\n",
              "director        2634\n",
              "cast             825\n",
              "country          831\n",
              "date_added        10\n",
              "release_year       0\n",
              "rating             4\n",
              "duration           3\n",
              "listed_in          0\n",
              "description        0\n",
              "dtype: int64"
            ]
          },
          "metadata": {},
          "execution_count": 5
        }
      ]
    },
    {
      "cell_type": "markdown",
      "source": [
        "# Interesting Task Ideas suggested in kaggle\n",
        "- Understanding what content is available in different countries\n",
        "- Identifying similar content by matching text-based features\n",
        "- Network analysis of Actors / Directors and find interesting insights\n",
        "- Does Netflix has more focus on TV Shows than movies in recent years."
      ],
      "metadata": {
        "id": "A5NxxyZJSBYS"
      }
    },
    {
      "cell_type": "markdown",
      "source": [
        "# Exploratory Data Analysis Steps\n",
        "\n",
        "## 1. Setting the goals about the dataset\n",
        "- find popular tv shows and movies\n",
        "- find similarities between these programs\n",
        "- geographical difference\n",
        "- distribution by genre\n",
        "\n",
        "\n",
        "## 2. Precise EDA\n",
        "### 2.1 univariate analysis\n",
        "### 2.2 bi-variate analysis\n",
        "### 2.3 missing value treatment\n",
        "### 2.4 outlier treatment\n",
        "#### 2.4.1 detect outlier\n",
        "#### 2.4.2 remove outlier\n",
        "\n",
        "## 3. Feature engineering\n",
        "### 3.1 variable transformation\n",
        "### 3.2 variable / feature selection\n",
        "### 3.3 variable creation\n",
        "\n"
      ],
      "metadata": {
        "id": "l7PSOuKxXO06"
      }
    },
    {
      "cell_type": "code",
      "source": [
        "plt.figure(figsize=(8,6))\n",
        "sns.set(style = 'darkgrid')\n",
        "ax = sns.countplot(x = 'type', palette='Set3', data = df)\n",
        "\n",
        "for p in ax.patches:\n",
        "    height = p.get_height()\n",
        "    ax.text(p.get_x() + p.get_width() / 2., height + 15, height, ha = 'center', size = 12)\n",
        "\n",
        "ax.set_ylim(0, 7000)\n",
        "plt.show()"
      ],
      "metadata": {
        "id": "6qDX5od8j8bf",
        "colab": {
          "base_uri": "https://localhost:8080/",
          "height": 398
        },
        "outputId": "1973b612-0123-44a0-95de-1ac1691b8a1a"
      },
      "execution_count": null,
      "outputs": [
        {
          "output_type": "display_data",
          "data": {
            "text/plain": [
              "<Figure size 576x432 with 1 Axes>"
            ],
            "image/png": "[encoded data removed]"
          },
          "metadata": {
            "needs_background": "light"
          }
        }
      ]
    },
    {
      "cell_type": "markdown",
      "source": [
        "According to the above countplot, there are 6131 movies and 2676 TV shows.   \n",
        "It means Movie count is 2.3 times as many as TV show's."
      ],
      "metadata": {
        "id": "mD8ZVRKXH15o"
      }
    },
    {
      "cell_type": "code",
      "source": [
        "df.groupby(['country', 'type']).head()"
      ],
      "metadata": {
        "id": "Dyxe2pR8Ks-U",
        "colab": {
          "base_uri": "https://localhost:8080/",
          "height": 988
        },
        "outputId": "1d2274bc-c5a5-44a6-b940-5102db5fd71f"
      },
      "execution_count": null,
      "outputs": [
        {
          "output_type": "execute_result",
          "data": {
            "text/plain": [
              "     show_id     type                  title         director  \\\n",
              "0         s1    Movie   Dick Johnson Is Dead  Kirsten Johnson   \n",
              "1         s2  TV Show          Blood & Water              NaN   \n",
              "2         s3  TV Show              Ganglands  Julien Leclercq   \n",
              "3         s4  TV Show  Jailbirds New Orleans              NaN   \n",
              "4         s5  TV Show           Kota Factory              NaN   \n",
              "...      ...      ...                    ...              ...   \n",
              "8794   s8795    Movie                 اشتباك     Mohamed Diab   \n",
              "8795   s8796  TV Show        Yu-Gi-Oh! Arc-V              NaN   \n",
              "8797   s8798  TV Show              Zak Storm              NaN   \n",
              "8800   s8801  TV Show     Zindagi Gulzar Hai              NaN   \n",
              "8801   s8802    Movie                Zinzana  Majid Al Ansari   \n",
              "\n",
              "                                                   cast  \\\n",
              "0                                                   NaN   \n",
              "1     Ama Qamata, Khosi Ngema, Gail Mabalane, Thaban...   \n",
              "2     Sami Bouajila, Tracy Gotoas, Samuel Jouy, Nabi...   \n",
              "3                                                   NaN   \n",
              "4     Mayur More, Jitendra Kumar, Ranjan Raj, Alam K...   \n",
              "...                                                 ...   \n",
              "8794  Nelly Karim, Hany Adel, Tarek Abdel Aziz, Ahme...   \n",
              "8795  Mike Liscio, Emily Bauer, Billy Bob Thompson, ...   \n",
              "8797  Michael Johnston, Jessica Gee-George, Christin...   \n",
              "8800  Sanam Saeed, Fawad Khan, Ayesha Omer, Mehreen ...   \n",
              "8801  Ali Suliman, Saleh Bakri, Yasa, Ali Al-Jabri, ...   \n",
              "\n",
              "                                            country          date_added  \\\n",
              "0                                     United States  September 25, 2021   \n",
              "1                                      South Africa  September 24, 2021   \n",
              "2                                               NaN  September 24, 2021   \n",
              "3                                               NaN  September 24, 2021   \n",
              "4                                             India  September 24, 2021   \n",
              "...                                             ...                 ...   \n",
              "8794                                  Egypt, France    October 11, 2018   \n",
              "8795                                  Japan, Canada         May 1, 2018   \n",
              "8797  United States, France, South Korea, Indonesia  September 13, 2018   \n",
              "8800                                       Pakistan   December 15, 2016   \n",
              "8801                   United Arab Emirates, Jordan       March 9, 2016   \n",
              "\n",
              "      release_year rating   duration  \\\n",
              "0             2020  PG-13     90 min   \n",
              "1             2021  TV-MA  2 Seasons   \n",
              "2             2021  TV-MA   1 Season   \n",
              "3             2021  TV-MA   1 Season   \n",
              "4             2021  TV-MA  2 Seasons   \n",
              "...            ...    ...        ...   \n",
              "8794          2016  TV-14     98 min   \n",
              "8795          2015  TV-Y7  2 Seasons   \n",
              "8797          2016  TV-Y7  3 Seasons   \n",
              "8800          2012  TV-PG   1 Season   \n",
              "8801          2015  TV-MA     96 min   \n",
              "\n",
              "                                              listed_in  \\\n",
              "0                                         Documentaries   \n",
              "1       International TV Shows, TV Dramas, TV Mysteries   \n",
              "2     Crime TV Shows, International TV Shows, TV Act...   \n",
              "3                                Docuseries, Reality TV   \n",
              "4     International TV Shows, Romantic TV Shows, TV ...   \n",
              "...                                                 ...   \n",
              "8794   Dramas, Independent Movies, International Movies   \n",
              "8795                             Anime Series, Kids' TV   \n",
              "8797                                           Kids' TV   \n",
              "8800  International TV Shows, Romantic TV Shows, TV ...   \n",
              "8801            Dramas, International Movies, Thrillers   \n",
              "\n",
              "                                            description  \n",
              "0     As her father nears the end of his life, filmm...  \n",
              "1     After crossing paths at a party, a Cape Town t...  \n",
              "2     To protect his family from a powerful drug lor...  \n",
              "3     Feuds, flirtations and toilet talk go down amo...  \n",
              "4     In a city of coaching centers known to train I...  \n",
              "...                                                 ...  \n",
              "8794  Amid the tumult following Egyptian President M...  \n",
              "8795  Now that he's discovered the Pendulum Summonin...  \n",
              "8797  Teen surfer Zak Storm is mysteriously transpor...  \n",
              "8800  Strong-willed, middle-class Kashaf and carefre...  \n",
              "8801  Recovering alcoholic Talal wakes up inside a s...  \n",
              "\n",
              "[1474 rows x 12 columns]"
            ],
            "text/html": [
              "\n",
              "  <div id=\"df-ac003276-2189-4297-ba68-7c0faeee3686\">\n",
              "    <div class=\"colab-df-container\">\n",
              "      <div>\n",
              "<style scoped>\n",
              "    .dataframe tbody tr th:only-of-type {\n",
              "        vertical-align: middle;\n",
              "    }\n",
              "\n",
              "    .dataframe tbody tr th {\n",
              "        vertical-align: top;\n",
              "    }\n",
              "\n",
              "    .dataframe thead th {\n",
              "        text-align: right;\n",
              "    }\n",
              "</style>\n",
              "<table border=\"1\" class=\"dataframe\">\n",
              "  <thead>\n",
              "    <tr style=\"text-align: right;\">\n",
              "      <th></th>\n",
              "      <th>show_id</th>\n",
              "      <th>type</th>\n",
              "      <th>title</th>\n",
              "      <th>director</th>\n",
              "      <th>cast</th>\n",
              "      <th>country</th>\n",
              "      <th>date_added</th>\n",
              "      <th>release_year</th>\n",
              "      <th>rating</th>\n",
              "      <th>duration</th>\n",
              "      <th>listed_in</th>\n",
              "      <th>description</th>\n",
              "    </tr>\n",
              "  </thead>\n",
              "  <tbody>\n",
              "    <tr>\n",
              "      <th>0</th>\n",
              "      <td>s1</td>\n",
              "      <td>Movie</td>\n",
              "      <td>Dick Johnson Is Dead</td>\n",
              "      <td>Kirsten Johnson</td>\n",
              "      <td>NaN</td>\n",
              "      <td>United States</td>\n",
              "      <td>September 25, 2021</td>\n",
              "      <td>2020</td>\n",
              "      <td>PG-13</td>\n",
              "      <td>90 min</td>\n",
              "      <td>Documentaries</td>\n",
              "      <td>As her father nears the end of his life, filmm...</td>\n",
              "    </tr>\n",
              "    <tr>\n",
              "      <th>1</th>\n",
              "      <td>s2</td>\n",
              "      <td>TV Show</td>\n",
              "      <td>Blood &amp; Water</td>\n",
              "      <td>NaN</td>\n",
              "      <td>Ama Qamata, Khosi Ngema, Gail Mabalane, Thaban...</td>\n",
              "      <td>South Africa</td>\n",
              "      <td>September 24, 2021</td>\n",
              "      <td>2021</td>\n",
              "      <td>TV-MA</td>\n",
              "      <td>2 Seasons</td>\n",
              "      <td>International TV Shows, TV Dramas, TV Mysteries</td>\n",
              "      <td>After crossing paths at a party, a Cape Town t...</td>\n",
              "    </tr>\n",
              "    <tr>\n",
              "      <th>2</th>\n",
              "      <td>s3</td>\n",
              "      <td>TV Show</td>\n",
              "      <td>Ganglands</td>\n",
              "      <td>Julien Leclercq</td>\n",
              "      <td>Sami Bouajila, Tracy Gotoas, Samuel Jouy, Nabi...</td>\n",
              "      <td>NaN</td>\n",
              "      <td>September 24, 2021</td>\n",
              "      <td>2021</td>\n",
              "      <td>TV-MA</td>\n",
              "      <td>1 Season</td>\n",
              "      <td>Crime TV Shows, International TV Shows, TV Act...</td>\n",
              "      <td>To protect his family from a powerful drug lor...</td>\n",
              "    </tr>\n",
              "    <tr>\n",
              "      <th>3</th>\n",
              "      <td>s4</td>\n",
              "      <td>TV Show</td>\n",
              "      <td>Jailbirds New Orleans</td>\n",
              "      <td>NaN</td>\n",
              "      <td>NaN</td>\n",
              "      <td>NaN</td>\n",
              "      <td>September 24, 2021</td>\n",
              "      <td>2021</td>\n",
              "      <td>TV-MA</td>\n",
              "      <td>1 Season</td>\n",
              "      <td>Docuseries, Reality TV</td>\n",
              "      <td>Feuds, flirtations and toilet talk go down amo...</td>\n",
              "    </tr>\n",
              "    <tr>\n",
              "      <th>4</th>\n",
              "      <td>s5</td>\n",
              "      <td>TV Show</td>\n",
              "      <td>Kota Factory</td>\n",
              "      <td>NaN</td>\n",
              "      <td>Mayur More, Jitendra Kumar, Ranjan Raj, Alam K...</td>\n",
              "      <td>India</td>\n",
              "      <td>September 24, 2021</td>\n",
              "      <td>2021</td>\n",
              "      <td>TV-MA</td>\n",
              "      <td>2 Seasons</td>\n",
              "      <td>International TV Shows, Romantic TV Shows, TV ...</td>\n",
              "      <td>In a city of coaching centers known to train I...</td>\n",
              "    </tr>\n",
              "    <tr>\n",
              "      <th>...</th>\n",
              "      <td>...</td>\n",
              "      <td>...</td>\n",
              "      <td>...</td>\n",
              "      <td>...</td>\n",
              "      <td>...</td>\n",
              "      <td>...</td>\n",
              "      <td>...</td>\n",
              "      <td>...</td>\n",
              "      <td>...</td>\n",
              "      <td>...</td>\n",
              "      <td>...</td>\n",
              "      <td>...</td>\n",
              "    </tr>\n",
              "    <tr>\n",
              "      <th>8794</th>\n",
              "      <td>s8795</td>\n",
              "      <td>Movie</td>\n",
              "      <td>اشتباك</td>\n",
              "      <td>Mohamed Diab</td>\n",
              "      <td>Nelly Karim, Hany Adel, Tarek Abdel Aziz, Ahme...</td>\n",
              "      <td>Egypt, France</td>\n",
              "      <td>October 11, 2018</td>\n",
              "      <td>2016</td>\n",
              "      <td>TV-14</td>\n",
              "      <td>98 min</td>\n",
              "      <td>Dramas, Independent Movies, International Movies</td>\n",
              "      <td>Amid the tumult following Egyptian President M...</td>\n",
              "    </tr>\n",
              "    <tr>\n",
              "      <th>8795</th>\n",
              "      <td>s8796</td>\n",
              "      <td>TV Show</td>\n",
              "      <td>Yu-Gi-Oh! Arc-V</td>\n",
              "      <td>NaN</td>\n",
              "      <td>Mike Liscio, Emily Bauer, Billy Bob Thompson, ...</td>\n",
              "      <td>Japan, Canada</td>\n",
              "      <td>May 1, 2018</td>\n",
              "      <td>2015</td>\n",
              "      <td>TV-Y7</td>\n",
              "      <td>2 Seasons</td>\n",
              "      <td>Anime Series, Kids' TV</td>\n",
              "      <td>Now that he's discovered the Pendulum Summonin...</td>\n",
              "    </tr>\n",
              "    <tr>\n",
              "      <th>8797</th>\n",
              "      <td>s8798</td>\n",
              "      <td>TV Show</td>\n",
              "      <td>Zak Storm</td>\n",
              "      <td>NaN</td>\n",
              "      <td>Michael Johnston, Jessica Gee-George, Christin...</td>\n",
              "      <td>United States, France, South Korea, Indonesia</td>\n",
              "      <td>September 13, 2018</td>\n",
              "      <td>2016</td>\n",
              "      <td>TV-Y7</td>\n",
              "      <td>3 Seasons</td>\n",
              "      <td>Kids' TV</td>\n",
              "      <td>Teen surfer Zak Storm is mysteriously transpor...</td>\n",
              "    </tr>\n",
              "    <tr>\n",
              "      <th>8800</th>\n",
              "      <td>s8801</td>\n",
              "      <td>TV Show</td>\n",
              "      <td>Zindagi Gulzar Hai</td>\n",
              "      <td>NaN</td>\n",
              "      <td>Sanam Saeed, Fawad Khan, Ayesha Omer, Mehreen ...</td>\n",
              "      <td>Pakistan</td>\n",
              "      <td>December 15, 2016</td>\n",
              "      <td>2012</td>\n",
              "      <td>TV-PG</td>\n",
              "      <td>1 Season</td>\n",
              "      <td>International TV Shows, Romantic TV Shows, TV ...</td>\n",
              "      <td>Strong-willed, middle-class Kashaf and carefre...</td>\n",
              "    </tr>\n",
              "    <tr>\n",
              "      <th>8801</th>\n",
              "      <td>s8802</td>\n",
              "      <td>Movie</td>\n",
              "      <td>Zinzana</td>\n",
              "      <td>Majid Al Ansari</td>\n",
              "      <td>Ali Suliman, Saleh Bakri, Yasa, Ali Al-Jabri, ...</td>\n",
              "      <td>United Arab Emirates, Jordan</td>\n",
              "      <td>March 9, 2016</td>\n",
              "      <td>2015</td>\n",
              "      <td>TV-MA</td>\n",
              "      <td>96 min</td>\n",
              "      <td>Dramas, International Movies, Thrillers</td>\n",
              "      <td>Recovering alcoholic Talal wakes up inside a s...</td>\n",
              "    </tr>\n",
              "  </tbody>\n",
              "</table>\n",
              "<p>1474 rows × 12 columns</p>\n",
              "</div>\n",
              "      <button class=\"colab-df-convert\" onclick=\"convertToInteractive('df-ac003276-2189-4297-ba68-7c0faeee3686')\"\n",
              "              title=\"Convert this dataframe to an interactive table.\"\n",
              "              style=\"display:none;\">\n",
              "        \n",
              "  <svg xmlns=\"http://www.w3.org/2000/svg\" height=\"24px\"viewBox=\"0 0 24 24\"\n",
              "       width=\"24px\">\n",
              "    <path d=\"M0 0h24v24H0V0z\" fill=\"none\"/>\n",
              "    <path d=\"M18.56 5.44l.94 2.06.94-2.06 2.06-.94-2.06-.94-.94-2.06-.94 2.06-2.06.94zm-11 1L8.5 8.5l.94-2.06 2.06-.94-2.06-.94L8.5 2.5l-.94 2.06-2.06.94zm10 10l.94 2.06.94-2.06 2.06-.94-2.06-.94-.94-2.06-.94 2.06-2.06.94z\"/><path d=\"M17.41 7.96l-1.37-1.37c-.4-.4-.92-.59-1.43-.59-.52 0-1.04.2-1.43.59L10.3 9.45l-7.72 7.72c-.78.78-.78 2.05 0 2.83L4 21.41c.39.39.9.59 1.41.59.51 0 1.02-.2 1.41-.59l7.78-7.78 2.81-2.81c.8-.78.8-2.07 0-2.86zM5.41 20L4 18.59l7.72-7.72 1.47 1.35L5.41 20z\"/>\n",
              "  </svg>\n",
              "      </button>\n",
              "      \n",
              "  <style>\n",
              "    .colab-df-container {\n",
              "      display:flex;\n",
              "      flex-wrap:wrap;\n",
              "      gap: 12px;\n",
              "    }\n",
              "\n",
              "    .colab-df-convert {\n",
              "      background-color: #E8F0FE;\n",
              "      border: none;\n",
              "      border-radius: 50%;\n",
              "      cursor: pointer;\n",
              "      display: none;\n",
              "      fill: #1967D2;\n",
              "      height: 32px;\n",
              "      padding: 0 0 0 0;\n",
              "      width: 32px;\n",
              "    }\n",
              "\n",
              "    .colab-df-convert:hover {\n",
              "      background-color: #E2EBFA;\n",
              "      box-shadow: 0px 1px 2px rgba(60, 64, 67, 0.3), 0px 1px 3px 1px rgba(60, 64, 67, 0.15);\n",
              "      fill: #174EA6;\n",
              "    }\n",
              "\n",
              "    [theme=dark] .colab-df-convert {\n",
              "      background-color: #3B4455;\n",
              "      fill: #D2E3FC;\n",
              "    }\n",
              "\n",
              "    [theme=dark] .colab-df-convert:hover {\n",
              "      background-color: #434B5C;\n",
              "      box-shadow: 0px 1px 3px 1px rgba(0, 0, 0, 0.15);\n",
              "      filter: drop-shadow(0px 1px 2px rgba(0, 0, 0, 0.3));\n",
              "      fill: #FFFFFF;\n",
              "    }\n",
              "  </style>\n",
              "\n",
              "      <script>\n",
              "        const buttonEl =\n",
              "          document.querySelector('#df-ac003276-2189-4297-ba68-7c0faeee3686 button.colab-df-convert');\n",
              "        buttonEl.style.display =\n",
              "          google.colab.kernel.accessAllowed ? 'block' : 'none';\n",
              "\n",
              "        async function convertToInteractive(key) {\n",
              "          const element = document.querySelector('#df-ac003276-2189-4297-ba68-7c0faeee3686');\n",
              "          const dataTable =\n",
              "            await google.colab.kernel.invokeFunction('convertToInteractive',\n",
              "                                                     [key], {});\n",
              "          if (!dataTable) return;\n",
              "\n",
              "          const docLinkHtml = 'Like what you see? Visit the ' +\n",
              "            '<a target=\"_blank\" href=https://colab.research.google.com/notebooks/data_table.ipynb>data table notebook</a>'\n",
              "            + ' to learn more about interactive tables.';\n",
              "          element.innerHTML = '';\n",
              "          dataTable['output_type'] = 'display_data';\n",
              "          await google.colab.output.renderOutput(dataTable, element);\n",
              "          const docLink = document.createElement('div');\n",
              "          docLink.innerHTML = docLinkHtml;\n",
              "          element.appendChild(docLink);\n",
              "        }\n",
              "      </script>\n",
              "    </div>\n",
              "  </div>\n",
              "  "
            ]
          },
          "metadata": {},
          "execution_count": 63
        }
      ]
    },
    {
      "cell_type": "markdown",
      "source": [
        "# Most content creating countries"
      ],
      "metadata": {
        "id": "9Yei8ZNFUtdc"
      }
    },
    {
      "cell_type": "code",
      "source": [
        "netflix_movies = df[df['type'] == \"Movie\"]\n",
        "netflix_shows = df[df['type'] == \"TV Show\"]"
      ],
      "metadata": {
        "id": "QJj9YIWpW1d-"
      },
      "execution_count": null,
      "outputs": []
    },
    {
      "cell_type": "code",
      "source": [
        "countries = {}\n",
        "netflix_movies['country'] = netflix_movies['country'].fillna('Unknown')\n",
        "cou = list(netflix_movies['country'])\n",
        "# print(cou)"
      ],
      "metadata": {
        "colab": {
          "base_uri": "https://localhost:8080/"
        },
        "id": "6iclQdxocYxs",
        "outputId": "397446bb-ad21-4e3c-c13e-6bb6ac665fe3"
      },
      "execution_count": null,
      "outputs": [
        {
          "output_type": "stream",
          "name": "stdout",
          "text": [
            "['United States', 'Unknown', 'United States, Ghana, Burkina Faso, United Kingdom, Germany, Ethiopia', 'United States', 'Germany, Czech Republic', 'Unknown', 'Unknown', 'Unknown', 'Unknown', 'Unknown', 'India', 'Unknown', 'United States', 'United States', 'United States, India, France', 'Unknown', 'Unknown', 'Unknown', 'China, Canada, United States', 'United States', 'United States', 'United States', 'United States', 'Unknown', 'South Africa, United States, Japan', 'United States', 'Japan', 'Japan', 'Japan', 'Japan', 'Japan', 'Japan', 'Japan', 'Japan', 'Japan', 'Japan', 'Japan', 'Japan', 'Unknown', 'Unknown', 'Unknown', 'Nigeria', 'Unknown', 'Unknown', 'Unknown', 'Unknown', 'Unknown', 'United States', 'Nigeria', 'Unknown', 'Unknown', 'Spain, United States', 'France', 'Unknown', 'United Kingdom, United States', 'United States', 'United States', 'Unknown', 'India', 'United States', 'Unknown', 'Unknown', 'India', 'United Kingdom, Australia, France', 'India', 'United Kingdom, United States', 'India', 'Unknown', 'United Kingdom, Australia, France, United States', 'India', 'United States, Canada', 'Unknown', 'Germany, United States', 'Unknown', 'United States', 'South Africa, United States', 'United States, Mexico', 'United States, Italy, France, Japan', 'United States, Italy, Romania, United Kingdom', 'Australia, United States', 'United States', 'United States', 'Argentina, Venezuela', 'United States, United Kingdom, Canada', 'Germany, United States', 'United States', 'United States', 'United States', 'United States', 'United States', 'United States', 'China, Hong Kong', 'United States', 'United Kingdom, United States', 'United States', 'Canada', 'United States', 'Hong Kong', 'United States', 'United States, China, Hong Kong', 'United States', 'United States', 'Italy, United States', 'United States, Canada', 'United States', 'United States', 'United States', 'United States', 'United States, Germany', 'United States', 'United States', 'United States', 'United States', 'United Kingdom, United States', 'United States', 'United States', 'Unknown', 'United States', 'United States', 'Unknown', 'France', 'India', 'United Kingdom, Canada, United States', 'India', 'India', 'Unknown', 'India', 'India', 'India', 'India', 'India', 'India', 'India', 'India', 'India', 'India', 'India', 'India', 'India', 'Unknown', 'India', 'India', 'India', 'Unknown', 'United States', 'United States, United Kingdom', 'United States', 'Unknown', 'United States', 'United Kingdom', 'Unknown', 'Unknown', 'Unknown', 'Unknown', 'Unknown', 'Unknown', 'Unknown', 'Unknown', 'United States', 'Unknown', 'Unknown', 'United States', 'Unknown', 'India', 'Unknown', 'Unknown', 'Unknown', 'Unknown', 'India, Nepal', 'Unknown', 'Unknown', 'United States', 'New Zealand, Australia, France, United States', 'Unknown', 'Italy, Brazil, Greece', 'Colombia', 'United States, Japan', 'Nigeria', 'Mexico', 'Belgium, United Kingdom', 'United Kingdom, United States', 'Switzerland, United Kingdom, Australia', 'United States', 'United Kingdom', 'South Africa', 'Unknown', 'United States', 'Nigeria', 'France', 'Canada, United States', 'India', 'Brazil', 'Argentina', 'United Kingdom', 'Argentina, Spain', 'Nigeria', 'United States', 'United States', 'United States', 'United States, Nigeria', 'United States', 'Unknown', 'United States', 'United States', 'United States, United Kingdom', 'Bulgaria, United States', 'United States, Canada', 'United States, Canada', 'United States, Mexico', 'United States', 'United States', 'United States', 'United States, Canada', 'Unknown', 'United States, United Kingdom', 'United States', 'United States', 'United States', 'United States', 'United States, Canada', 'United States', 'Spain, United Kingdom, United States', 'United Kingdom, United States', 'United States', 'United States', 'United States, Germany', 'United States, China', 'United States', 'United States', 'United States', 'United States, France', 'Spain, France, United Kingdom, United States', 'United States', 'United States', 'United States', 'Unknown', 'Unknown', ', France, Algeria', 'Unknown', 'Unknown', 'Unknown', 'Unknown', 'Nigeria', 'Unknown', 'Poland', 'United States', 'India', 'Unknown', 'Unknown', 'France, Israel, Germany, United States, United Kingdom', 'United States', 'Australia', 'Unknown', 'Unknown', 'Unknown', 'Unknown', 'United Kingdom', 'Unknown', 'Unknown', 'Unknown', 'Unknown', 'Unknown', 'Unknown', 'India', 'Unknown', 'Unknown', 'Unknown', 'Unknown', 'India', 'Unknown', 'Unknown', 'Unknown', 'Unknown', 'Unknown', 'Unknown', 'Unknown', 'Unknown', 'Unknown', 'New Zealand', 'Unknown', 'Unknown', 'Nigeria', 'Unknown', 'United States', 'Saudi Arabia', 'United States', 'Unknown', 'Thailand', 'Unknown', 'Unknown', 'United States', 'United States', 'United States', 'United States', 'United States', 'United States', 'United States', 'Indonesia', 'Unknown', 'Unknown', 'Egypt, Denmark, Germany', 'Unknown', 'United States, Canada', 'Unknown', 'United States', 'Italy', 'Unknown', 'Unknown', 'Unknown', 'United States, Canada', 'Unknown', 'Unknown', 'United States', 'United States, Switzerland', 'Unknown', 'Unknown', 'Unknown', 'Unknown', 'Unknown', 'Unknown', 'Unknown', 'Unknown', 'Hong Kong, Canada, United States', 'Kuwait, United States', 'United States', 'United States', 'United States', 'Unknown', 'France, Canada, United States, Spain', 'Unknown', 'Unknown', 'Unknown', 'Nigeria', 'Unknown', 'Australia', 'Unknown', 'France, Netherlands, Singapore', 'India', 'India', 'Egypt', 'Malaysia', 'Indonesia', 'India', 'India', 'Unknown', 'India', 'Unknown', 'Nigeria', 'South Korea, Czech Republic', 'South Korea', 'Australia, United States', 'United States', 'United States, Germany', 'Unknown', 'United States', 'United States', 'United States', 'United States', 'United States, Germany', 'United States', 'United States', 'Vietnam', 'Unknown', 'United Kingdom, Belgium', 'United States, China', 'United States, China', 'United States', 'United Kingdom, Australia, United States', 'France, Japan, United States', 'United States', 'Unknown', 'United States', 'United States', 'United States, United Kingdom', 'United States', 'United Kingdom, United States', 'Unknown', 'United Kingdom', 'United States', 'United States', 'United States', 'United States, Germany', 'Germany, United States', 'United States', 'United States', 'United States, United Kingdom', 'United States', 'United States', 'United States', 'United States', 'United States', 'United Kingdom, Germany, Spain, United States', 'United States', 'United Kingdom, United States, France, Italy', 'United States', 'United States, Germany, Canada', 'United States, France, Italy, United Kingdom', 'United States, United Kingdom, Germany, Hungary', 'United States, Canada', 'United States, New Zealand', 'Nigeria', 'United States, New Zealand', 'United States', 'Unknown', 'United States', 'Unknown', 'United States', 'Unknown', 'Unknown', 'Unknown', 'United States', 'Unknown', 'Unknown', 'France', 'Lebanon', 'United States, Canada', 'Unknown', 'United States', 'Unknown', 'Unknown', 'Unknown', 'Unknown', 'Brazil', 'Nigeria', 'Unknown', 'Romania', 'Romania', 'Romania', 'Unknown', 'Unknown', 'Unknown', 'Unknown', 'United States', 'Unknown', 'Nigeria', 'Unknown', 'Unknown', 'Unknown', 'Lebanon, Syria', 'Unknown', 'Philippines', 'Canada', 'United States', 'Unknown', 'Germany', 'United States', 'Italy', 'Unknown', 'United States', 'Unknown', 'United States', 'United States', 'United States', 'United States, United Kingdom', 'United States', 'United States', 'Unknown', 'Unknown', 'Unknown', 'India', 'United States, India', 'Unknown', 'China, United States, Canada', 'United States', 'Lebanon, United Arab Emirates', 'Vietnam', 'Canada, United States, Denmark', 'United Arab Emirates', 'United States', 'Nigeria', 'Mexico, France, Colombia', 'United States, United Kingdom', 'United Kingdom, United States', 'Netherlands', 'Nigeria', 'United States', 'Unknown', 'Unknown', 'South Korea', 'South Africa', 'Spain', 'Mexico', 'Sweden', 'Argentina', 'United Arab Emirates', 'Philippines', 'United States', 'United States', 'United States', 'United States', 'United States', 'Unknown', 'Canada, United States', 'Brazil', 'United States, Canada', 'United States', 'United States', 'United States', 'United States', 'United States', 'United States', 'United States', 'Nigeria', 'United States', 'United States', 'United States', 'United States', 'United States', 'United States', 'Germany, United States, France', 'Canada, United States', 'Unknown', 'Unknown', 'United States, Bulgaria', 'United States', 'United States', 'Unknown', 'United States', 'United States', 'Unknown', 'United Kingdom, France, Germany, United States', 'United States', 'United States', 'United States', 'United Kingdom', 'United States', 'United States', 'United States', 'United States', 'Unknown', 'United States', 'Unknown', 'United States', 'Thailand', 'Argentina', 'Syria, France, Lebanon, Qatar', 'Italy', 'Unknown', 'Unknown', 'Unknown', 'United States', 'Unknown', 'India', 'Unknown', 'Unknown', 'United States', 'Unknown', 'Unknown', 'Unknown', 'Egypt', 'Australia', 'Unknown', 'United States', 'Unknown', 'United States', 'United States', 'United States', 'United States', 'India', 'United States', 'India', 'Unknown', 'India', 'Belgium, Netherlands', 'South Africa', 'Mauritius', 'Canada, South Africa', 'Austria', 'Unknown', 'United States', 'United Kingdom', 'India', 'Unknown', 'Mexico, Brazil', 'France, United States', 'Unknown', 'Spain', 'United States', 'India', 'United States', 'China', 'Turkey', 'United States', 'India', 'United States', 'Unknown', 'India', 'United Kingdom, United States', 'Germany, France', 'United States', 'United States', 'United States', 'United States', 'United States', 'United States', 'Unknown', 'United States', 'United States', 'United Kingdom, France, Spain, United States', 'United Kingdom, United States', 'United Kingdom, Canada, United States', 'United States', 'Unknown', 'Unknown', 'Unknown', 'Unknown', 'Unknown', 'United States, Australia', 'United States', 'China', 'United Kingdom', 'United States, France', 'United States, United Kingdom, France', 'United States', 'United States, Russia', 'United States, United Kingdom, New Zealand', 'United States', 'United States', 'United States', 'Canada', 'France, United States', 'United States', 'Unknown', 'India', 'Unknown', 'United States, United Kingdom', 'Unknown', 'Brazil', 'United States', 'United States', 'Spain', 'India', 'India', 'United States', 'Turkey', 'Turkey', 'Turkey', 'Turkey', 'Turkey', 'Turkey', 'Turkey', 'Spain', 'Turkey', 'Turkey', 'Turkey', 'Unknown', 'Turkey', 'Turkey', 'Egypt', 'Unknown', 'Nigeria', 'Turkey', 'Japan', 'India', 'Germany, United States', 'Unknown', 'Canada, Nigeria, United States', 'Mexico', 'Unknown', 'Unknown', 'Unknown', 'Unknown', 'Unknown', 'Unknown', 'United States', 'France, United States, United Kingdom, Canada', 'United States', 'India', 'India', 'India', 'India, United Kingdom', 'India', 'India', 'India', 'India', 'United States', 'United States', 'Canada, United States, Mexico', 'Unknown', 'United States', 'Philippines', 'Germany', 'United Kingdom, Germany, United States', 'United States', 'Czech Republic, United Kingdom, United States', 'United States', 'India', 'United States', 'Japan', 'United States', 'Japan', 'United States', 'United States', 'Unknown', 'United States', 'China, Taiwan', 'India', 'United States', 'Unknown', 'Unknown', 'Unknown', 'Unknown', 'Unknown', 'Unknown', 'Unknown', 'China', 'United States', 'South Korea', 'Nigeria', 'India', 'United States', 'United States', 'Indonesia', 'Unknown', 'Unknown', 'United States, China, United Kingdom', 'India', 'Cameroon', 'United States', 'United States, Canada', 'United States', 'China', 'United States, Canada', 'United Kingdom, United States', 'United States', 'Nigeria', 'India', 'Netherlands', 'France', 'United States, United Kingdom, France', 'United States', 'United States', 'India', 'India', 'Lebanon, Palestine, Denmark, Qatar', 'United States, Canada', 'United States, Canada', 'Japan, United States', 'United States', 'India', 'United States', 'United States', 'United States', 'Unknown', 'Japan', 'Unknown', 'United States', 'United States, Japan', 'United States', 'Indonesia', 'Egypt, Saudi Arabia', 'United Kingdom, France, Poland, Germany, United States', 'United States', 'United States', 'India', 'United States', 'United States, United Kingdom', 'Ireland, Switzerland, United Kingdom, France, United States', 'United Kingdom', 'United States', 'China, United Kingdom', 'United Kingdom, South Africa, France', 'United States', 'Nigeria', 'United States', 'United States', 'Unknown', 'Ireland, United Kingdom, France, Germany', 'United Kingdom', 'Turkey', 'Spain', 'India', 'Italy', 'Russia, United States', 'United States', 'South Africa', 'United Kingdom, United States, France', 'Japan', 'Taiwan', 'United States', 'Unknown', 'China', 'Nigeria', 'United States', 'Brazil', 'United States', 'United Kingdom, United States', 'United States', 'United Kingdom,', 'Unknown', 'Nigeria', 'United States', 'United Kingdom, United States', 'Germany', 'United States', 'India', 'United States, India, United Kingdom', 'United States', 'Unknown', 'Turkey', 'Kenya', 'Turkey', 'Turkey', 'Unknown', 'Turkey', 'Turkey', 'United States', 'Turkey', 'Spain, Argentina', 'Indonesia', 'United States', 'India, United Kingdom, France, Qatar', 'India', 'Colombia', 'Nigeria', 'France', 'Indonesia', 'United States', 'United States', 'United States', 'United States', 'India', 'Unknown', 'United States', 'Unknown', 'Unknown', 'United States, United Kingdom', 'Germany', 'United States', 'United States', 'Unknown', 'United States, Germany', 'Belgium, France', 'United States', 'Spain', 'Argentina, Chile', 'Unknown', 'United States, Thailand', 'United States', 'India', 'Chile, Brazil', 'Germany', 'Indonesia', 'Japan', 'Unknown', 'United States', 'Canada', 'United Kingdom', 'India', 'United States', 'Canada, United States, United Kingdom', 'Taiwan', 'United Kingdom', 'United States', 'Unknown', 'United Kingdom, United States', 'India', 'Uruguay', 'India', 'United States', 'United States', 'United States', 'India', 'United States', 'United States', 'Nigeria', 'United Kingdom', 'Spain', 'India', 'United States', 'Mexico', 'Spain', 'Indonesia', 'United States', 'Sweden', 'Poland', 'United States', 'France', 'United States', 'United States, Cambodia, Romania', 'China', 'France', 'Bangladesh', 'Taiwan', 'United States', 'South Korea', 'United States', 'Italy', 'China', 'Poland', 'Spain, Belgium, United States', 'Mexico', 'United States', 'United Kingdom', 'United States', 'United Kingdom, United States, Australia', 'United States', 'Portugal, United States', 'United States', 'Spain', 'United States', 'United Kingdom', 'Indonesia', 'United States', 'India', 'Australia, United States', 'Nigeria', 'Unknown', 'Unknown', 'Portugal, Spain', 'United States, France', 'India, United States', 'United States', 'United Kingdom, Ireland', 'United States', 'United States', 'United States', 'United Kingdom, Spain, United States', 'United States, Thailand', 'United States', 'Brazil', 'Hungary, United States', 'United States', 'United States, South Korea', 'United States', 'India', 'United States', 'South Korea', 'Indonesia', 'Indonesia', 'United States', 'Argentina', 'Unknown', 'United States', 'France', 'India', 'India', 'Canada, United States, Cayman Islands', 'United States', 'India', 'India, France', 'Turkey', 'Indonesia', 'France, Canada', 'Canada, Hungary, United States', 'Unknown', 'France', 'India', 'United States', 'Norway', 'United States', 'United States, Canada', 'United States', 'United States', 'United States', 'United States', 'United States', 'United States', 'United Kingdom', 'United States', 'United States', 'United States', 'United States', 'United Kingdom, Germany, France, United States', 'South Korea', 'United States', 'United States', 'Unknown', 'India', 'Indonesia', 'Indonesia', 'Taiwan', 'United States', 'United States, Canada', 'United States', 'France, Algeria', 'Canada', 'India', 'Philippines', 'United States', 'Indonesia', 'Indonesia', 'Philippines', 'United States', 'United States', 'Taiwan', 'United States', 'United States', 'Netherlands', 'United Kingdom', 'United States', 'United States, United Kingdom', 'Egypt', 'United Kingdom', 'United States', 'United States', 'United States', 'Unknown', 'Malaysia', 'Malaysia', 'Malaysia', 'Colombia', 'Canada', 'Indonesia', 'Philippines', 'Philippines', 'Unknown', 'Philippines, Canada, United Kingdom, United States', 'United States', 'United States', 'United States', 'India', 'Canada', 'Ireland, France, Iceland, United States, Mexico, Belgium, United Kingdom, Hong Kong', 'United States', 'United States', 'Unknown', 'United States', 'United States', 'United States', 'India', 'Canada, United States', 'Philippines', 'Philippines', 'Philippines', 'Philippines', 'Italy', 'Singapore', 'United States', 'Brazil', 'United States', 'Unknown', 'United States', 'United States', 'Canada', 'United States', 'Germany', 'Turkey', 'United States', 'United States', 'Philippines', 'France, Belgium', 'Unknown', 'Brazil', 'Philippines', 'Iceland', 'Poland', 'Germany', 'United States, France, Serbia', 'United States', 'United States, Italy', 'United States', 'United Kingdom', 'United States', 'United States', 'Hong Kong, United States', 'Australia, United States', 'United States, Malta, France, United Kingdom', 'United States, China, Canada', 'Philippines', 'Philippines', 'United States', 'United States', 'United States', 'United States', 'United States', 'Spain', 'Italy', 'South Korea', 'Philippines', 'United States', 'United States', 'Philippines', 'United Kingdom', 'United Kingdom, United States', 'Canada', 'Unknown', 'India', 'United States', 'United States', 'Argentina', 'United States', 'United States', 'Egypt', 'United States', 'United States, Russia', 'Kenya', 'United States', 'United States', 'United States', 'India', 'India', 'India', 'India', 'Philippines', 'India', 'India', 'India', 'United States', 'Philippines', 'India', 'United States, Japan', 'United States', 'United Kingdom, United States', 'United States', 'United States, Canada', 'United States', 'Canada', 'United States', 'United States', 'India', 'United States', 'Brazil', 'Italy', 'Philippines', 'Philippines', 'United States', 'India', 'Argentina', 'United States, Canada', 'Lebanon, Canada, France', 'Austria', 'Nigeria', 'Taiwan', 'Spain, France, Canada', 'United States', 'United States', 'Philippines', 'Canada', 'Philippines', 'United States', 'Canada', 'Canada', 'India', 'Germany', 'Japan', 'Unknown', 'Unknown', 'Canada, United States', 'United States', 'United States', 'United States', 'Canada', 'United States', 'United States, China, Colombia', 'United States', 'United Kingdom, France, Germany, United States', 'Spain, Thailand, United States', 'United States', 'United States', 'Norway', 'United States', 'United Kingdom', 'Nigeria', 'India', 'France', 'Mexico, Spain', 'Philippines', 'United States', 'Unknown', 'United States', 'Poland', 'United States', 'Argentina', 'United States', 'India', 'Ireland, Luxembourg, Belgium', 'Australia', 'Brazil', 'China, United States', 'United States', 'United States', 'Norway', 'Philippines', 'United Kingdom', 'Philippines', 'Canada, Belgium', 'United States', 'Canada, United Kingdom', 'United Kingdom', 'Canada', 'United States', 'Lebanon', 'Lebanon', 'Lebanon', 'Lebanon, United Arab Emirates, France, Switzerland, Germany', 'Lebanon', 'France, Belgium, Italy', 'Lebanon', 'Lebanon, United States, United Arab Emirates', 'Lebanon, France', 'France, Lebanon', 'France, Lebanon, United Kingdom', 'France, Norway, Lebanon, Belgium', 'Lebanon', 'Lebanon, Canada, France', 'Sweden, Czech Republic, United Kingdom, Denmark, Netherlands', 'United States', 'United Kingdom', 'Kenya', 'United States', 'United States, United Kingdom, India', 'United States, Russia', 'United States', 'United States', 'Egypt', 'Indonesia, Netherlands', 'Indonesia', 'India', 'Taiwan', 'United States', 'Mexico', 'India', 'United Kingdom', 'India', 'India', 'India', 'India', 'India', 'United States', 'India', 'Turkey, South Korea', 'Canada', 'United States', 'France', 'Argentina', 'United States', 'United States', 'United Kingdom', 'Canada', 'United States', 'United States, United Kingdom', 'Canada', 'Turkey', 'Turkey', 'Unknown', 'Nigeria', 'India', 'Italy', 'Turkey', 'United States', 'Mexico', 'Malaysia', 'Serbia, United States', 'United States', 'South Africa', 'United States', 'United States', 'New Zealand', 'United States, Mexico', 'United States, United Kingdom', 'Unknown', 'Saudi Arabia', 'United States, Bulgaria', 'United States', 'United States', 'Namibia', 'United Kingdom, Kenya', 'United States', 'United States', 'United States', 'United States', 'United States', 'South Africa, United States', 'India', 'India', 'India', 'India', 'India', 'India', 'India', 'India', 'India', 'India', 'Unknown', 'Unknown', 'United States, India', 'United Kingdom', 'United States', 'United States', 'Japan', 'Japan', 'Japan', 'Japan', 'Japan', 'Unknown', 'Japan', 'Egypt', 'India', 'India', 'India', 'India', 'India', 'India', 'Indonesia', 'India', 'France', 'United Kingdom', 'Unknown', 'United States', 'Unknown', 'United States', 'Spain', 'United Kingdom, France, United States, Belgium, Luxembourg, China, Germany', 'Thailand, United States', 'United Kingdom', 'France, United States', 'United States, France, Canada, Belgium', 'Unknown', 'Nigeria', 'Mexico', 'United States', 'Germany, China, United Kingdom', 'Unknown', 'India', 'India', 'India', 'India', 'India', 'India', 'India', 'Turkey', 'India', 'India', 'Indonesia', 'Egypt', 'United States', 'India', 'France', 'Argentina', 'United States', 'South Korea', 'South Africa', 'Turkey', 'United States', 'United Kingdom', 'United States', 'South Africa', 'Nigeria', 'Philippines', 'Brazil', 'Indonesia', 'United States', 'Germany', 'Germany, United States', 'Vietnam', 'Hong Kong, Iceland, United States', 'Philippines', 'Netherlands', 'Japan, United States', 'Japan', 'United States', 'United States', 'India', 'Spain', 'United States', 'Italy', 'United States, Belgium, Canada, France', 'Canada', 'India', 'United States', 'United States', 'South Africa, Angola', 'Spain', 'United States', 'Taiwan', 'United States', 'United States, Philippines', 'United States', 'United Kingdom', 'United States', 'India', 'Mexico', 'United States', 'United States', 'Egypt', 'Argentina', 'Unknown', 'United States', 'Nigeria', 'Indonesia', 'Indonesia', 'United Kingdom, United States', 'United States, United Kingdom, Canada, China', 'India', 'Unknown', 'Canada', 'United States, Nigeria', 'United Kingdom', 'United States', 'France', 'United Kingdom, United States', 'United States, France', 'India', 'United States', 'United States', 'United States', 'Unknown', 'United States, Canada, United Kingdom', 'Germany', 'United States', 'United States', 'United States', 'Uruguay', 'France', 'Unknown', 'Unknown', 'United States', 'United States', 'United States', 'United States', 'United States', 'Canada', 'Turkey, United States', 'Unknown', 'Canada', 'Germany', 'India', 'South Africa', 'United States', 'Peru, Germany, Norway', 'India', 'Nigeria', 'Mozambique', 'Brazil, France', 'Poland', 'United States', 'United States', 'United States', 'India', 'China', 'India', 'China, Spain, South Korea, United States', 'United States', 'Nigeria', 'Spain, Germany', 'Japan', 'United Kingdom, United States', 'South Korea', 'South Africa', 'United States', 'Hong Kong, China', 'United Kingdom', 'France, Belgium, Luxembourg, Cambodia,', 'United States', 'Nigeria', 'United States', 'France, Belgium', 'Nigeria', 'Unknown', 'Nigeria', 'Italy', 'Australia', 'France', 'South Africa', 'Egypt', 'United States', 'United States', 'Unknown', 'New Zealand', 'United States', 'United States', 'United States, France', 'Unknown', 'United States, China', 'Unknown', 'India', 'India', 'India', 'India', 'India', 'India', 'India', 'India', 'India', 'India', 'India', 'India', 'India', 'India', 'India', 'India', 'India', 'India', 'United States', 'India', 'India', 'India', 'India', 'India', 'India', 'India', 'India', 'United States', 'Indonesia, United Kingdom', 'Switzerland, France, Belgium, United States', 'Ghana', 'Brazil', 'Italy', 'Spain', 'Turkey', 'Canada', 'United States, Germany, Canada', 'Turkey', 'United Kingdom, United States', 'United States', 'Spain, France, Canada, United States', 'United States, Mexico', 'Italy', 'United States', 'United Kingdom, Nigeria', 'Indonesia', 'Nigeria', 'Unknown', 'Australia', 'United States', 'Nigeria', 'Philippines', 'India', 'Unknown', 'India', 'India', 'India', 'India', 'United States', 'India', 'Chile', 'United States', 'India', 'Nigeria', 'United States', 'Nigeria', 'India', 'France, Egypt', 'United States', 'United States', 'France', 'Turkey', 'Egypt, France', 'France, Brazil, Spain, Belgium', 'Japan', 'Egypt, Algeria', 'France, Egypt', 'Egypt', 'Egypt', 'Egypt', 'Unknown', 'Philippines', 'Thailand', 'Egypt', 'Lebanon', 'Egypt', 'Egypt', 'Canada, South Korea, United States', 'United Kingdom, United States', 'United States', 'Nigeria, United Kingdom', 'United States', 'United Kingdom, United States', 'Argentina, Spain', 'Malaysia', 'Nigeria', 'India', 'Indonesia', 'India', 'United States', 'United States', 'Japan', 'United Arab Emirates, Jordan, Lebanon, Saudi Arabia', 'Saudi Arabia', 'United States', 'South Korea', 'United States', 'Poland', 'India', 'India', 'United States', 'Egypt', 'United States', 'India', 'Nigeria', 'United States', 'Unknown', 'Turkey', 'Turkey', 'Egypt', 'United States', 'United States', 'Egypt', 'Egypt', 'Egypt', 'Unknown', 'Egypt', 'Egypt', 'Egypt', 'Canada', 'Saudi Arabia, United Arab Emirates', 'Egypt', 'Egypt', 'India', 'Zimbabwe', 'United Arab Emirates', 'Japan, United States', 'United States', 'United Kingdom, Germany, United Arab Emirates, New Zealand', 'Romania, United States', 'United Arab Emirates', 'India', 'France, Egypt', 'United Arab Emirates', 'United Arab Emirates', 'Argentina', 'Mexico, United States', 'Australia', 'China', 'United States', 'Indonesia', 'Indonesia', 'Nigeria', 'Japan', 'United States', 'Indonesia', 'Kuwait', 'Unknown', 'Unknown', 'Chile', 'Egypt', 'Unknown', 'Unknown', 'Egypt', 'Egypt', 'Egypt', 'Canada, Nigeria', 'United States', 'United Kingdom', 'United States', 'Mexico', 'India', 'Egypt', 'Egypt', 'Egypt', 'Egypt', 'Egypt', 'Egypt', 'Egypt', 'Egypt', 'Saudi Arabia, Netherlands, Germany, Jordan, United Arab Emirates, United States', 'Egypt', 'Nigeria', 'Kuwait', 'Lebanon', 'Spain', 'Indonesia', 'Indonesia', 'United Arab Emirates', 'India', 'Unknown', 'Mexico', 'Nigeria', 'Kuwait', 'India', 'United States', 'United Arab Emirates', 'United States', 'India', 'India', 'United States', 'United States', 'Italy', 'United Arab Emirates', 'Kuwait', 'Indonesia', 'United States', 'Unknown', 'United States', 'India, United Kingdom, China, Canada, Japan, South Korea, United States', 'Brazil', 'India', 'United States', 'Colombia', 'United States', 'United States', 'United States', 'United States', 'United States', 'United States', 'France, Belgium', 'United States', 'United States', 'United States', 'South Africa', 'India', 'India', 'United States', 'United States', 'Unknown', 'Unknown', 'Unknown', 'United States, United Kingdom', 'United States', 'Brazil', 'United States', 'Turkey', 'Nigeria', 'United States', 'India', 'Turkey', 'Turkey, India', 'Egypt', 'Turkey', 'Turkey', 'Italy, Turkey', 'Turkey', 'Unknown', 'Turkey', 'Turkey', 'United States', 'Egypt', 'Romania', 'India', 'India', 'India', 'Egypt', 'United Kingdom, United States, Japan', 'Egypt', 'France, Belgium, United States', 'Egypt', 'Egypt', 'Egypt', 'Egypt', 'India', 'India', 'Indonesia', 'Indonesia', 'Indonesia', 'South Korea', 'United States', 'Poland', 'Nigeria', 'Spain', 'Canada, United States, United Kingdom', 'India', 'Turkey', 'France, Belgium', 'Germany', 'United States', 'Spain, Germany', 'Uruguay, Argentina', 'United States, United Kingdom, Japan', 'United States', 'Brazil', 'United States', 'Turkey', 'Philippines', 'India', 'India', 'United States', 'Nigeria', 'Nigeria', 'United States', 'Canada', 'United States, Argentina', 'United Kingdom, Italy', 'France', 'United States', 'United States', 'Philippines', 'United States', 'United States', 'United States', 'United States', 'United States', 'Ireland, United Kingdom', 'United States', 'United States', 'Spain', 'United Kingdom, France, Belgium, Canada, United States', 'Japan', 'Japan', 'India', 'India, United States', 'India', 'Sweden', 'India, United States', 'India', 'India', 'India', 'India', 'India', 'India', 'India', 'India', 'India', 'India', 'India', 'India', 'India', 'India', 'India', 'India', 'India', 'Netherlands, Germany, Denmark, United Kingdom', 'United States', 'India', 'United States', 'India', 'United States', 'United States', 'Canada', 'India', 'United States', 'Canada, United States', 'India', 'United States', 'United States', 'India', 'Canada', 'Canada', 'Canada', 'United States', 'Hungary', 'Thailand', 'Germany', 'United States', 'United States', 'Hungary', 'Spain', 'United States', 'Argentina', 'Mexico', 'Italy', 'United States', 'Japan, United States', 'Saudi Arabia', 'United States', 'Japan', 'United Kingdom', 'United States', 'United States', 'India', 'Unknown', 'Unknown', 'Unknown', 'India', 'South Africa', 'Australia', 'United States', 'United States', 'Turkey', 'Canada, United States', 'United States', 'Pakistan, United States', 'Unknown', 'South Africa', 'India', 'France', 'United States', 'United States', 'Spain', 'Nigeria', 'Unknown', 'Thailand', 'Romania, France, Switzerland, Germany', 'United States', 'Romania', 'United States, Canada', 'Brazil', 'United States', 'India', 'South Africa', 'United Kingdom', 'United States', 'India', 'Unknown', 'United States', 'United Kingdom, United States, France', 'United States', 'South Africa', 'United States', 'Unknown', 'France', 'United Kingdom, Canada, United States', 'United States', 'India', 'India', 'Japan', 'Nigeria', 'Nigeria', 'Nigeria', 'Nigeria', 'Unknown', 'Nigeria', 'United States', 'United States', 'United States', 'Germany', 'India', 'United States', 'India', 'South Africa', 'Romania, United Kingdom', 'France, Malta, United States', 'United States', 'United States', 'United States', 'United States', 'Unknown', 'United Kingdom, France, Belgium, Ireland, United States', 'Philippines', 'Poland', 'Germany', 'South Africa', 'India', 'Nigeria', 'Japan', 'South Africa', 'United States', 'United States', 'United States', 'Mexico', 'Indonesia', 'United States', 'United States, Norway, Canada', 'Poland, United States', 'India', 'Ghana', 'United States', 'India', 'United States', 'Kenya, United States', 'United States', 'United States', 'United States', 'United States', 'India', 'Spain', 'United States', 'India', 'United States', 'Canada, South Africa', 'Netherlands', 'United Kingdom', 'United States', 'India', 'Japan', 'France', 'Nigeria', 'United States', 'United States', 'France, Belgium', 'India', 'India', 'India', 'United States', 'Taiwan', 'South Africa', 'United States', 'Mexico', 'Uruguay, Argentina, Germany, Spain', 'United States', 'India', 'India', 'United States', 'United States, United Kingdom, France, Germany, Japan', 'United States', 'United States', 'United States, France, Japan', 'United States', 'United Kingdom, France, United States', 'Japan', 'United Kingdom, United States', 'India', 'Spain, France, United States', 'Austria', 'United States', 'United States', 'Poland', 'United States', 'India', 'United Kingdom', 'United States', 'United States', 'Spain', 'Mexico', 'India', 'Indonesia, South Korea, Singapore', 'United Kingdom', 'United States', 'United States, South Korea', 'South Korea, United States', 'India', 'United States', 'United States, Spain', 'Unknown', 'Mexico, Spain', 'Japan', 'Indonesia', 'Unknown', 'United States', 'India', 'India', 'United States', 'United States', 'Japan', 'South Africa', 'Argentina, Uruguay, Serbia', 'Unknown', 'Italy', 'United States', 'Japan', 'United States', 'Israel, United States', 'France, Japan', 'United States', 'Mexico', 'United States', 'United States', 'Australia', 'Nigeria', 'Nigeria', 'Unknown', 'Nigeria', 'Unknown', 'United Kingdom, Italy', 'United States, Mexico', 'United States', 'Bangladesh', 'United Kingdom, United States, Germany, Denmark, Belgium, Japan', 'India', 'India', 'India', 'India', 'India, Germany', 'India', 'India', 'Unknown', 'India', 'Nigeria', 'India', 'India', 'India', 'Ghana', 'India', 'India', 'India', 'United States', 'Nigeria', 'South Africa', 'Nigeria', 'Unknown', 'Taiwan', 'Unknown', 'United Kingdom', 'India, United Kingdom, Canada, United States', 'Egypt', 'United States', 'United States', 'United States', 'India', 'Brazil', 'Nigeria', 'Unknown', 'United Kingdom, United States', 'Japan', 'Nigeria', 'United States', 'Nigeria', 'United Kingdom, Nigeria', 'United States', 'United States', 'United States', 'United States', 'India', 'United States', 'Philippines, United States', 'India', 'Australia', 'India', 'India', 'United Kingdom', 'India', 'Thailand', 'India', 'France', 'Romania, Bulgaria, Hungary', 'Uruguay, Guatemala', 'India', 'France, Senegal, Belgium', 'Nigeria', 'France', 'South Africa', 'Unknown', 'Nigeria', 'Nigeria', 'Nigeria', 'United States', 'United States', 'India', 'Unknown', 'Canada, Norway', 'United States', 'United States', 'United States', 'Unknown', 'India', 'Spain', 'United States', 'France', 'Japan', 'United States', 'United States', 'United States', 'United States', 'India', 'Mexico', 'India', 'United States', 'Finland, Germany, Belgium', 'United States', 'United Kingdom, France', 'United States, Chile', 'United Kingdom, Japan, United States', 'Colombia', 'Argentina', 'India', 'India', 'Japan', 'Spain, United Kingdom', 'India, United States', 'Japan', 'France', 'United States', 'United States', 'United States', 'United States', 'France', 'India', 'United States', 'China, Hong Kong', 'Brazil', 'United States', 'United States', 'South Korea', 'United States', 'United States', 'India', 'United States', 'United States', 'United States, Canada', 'United States', 'United States, South Korea, Japan', 'United States, Canada', 'United States', 'United States', 'United States, Canada', 'United States', 'Spain', 'United States', 'United States', 'United Kingdom', 'India', 'United States', 'United States', 'United States', 'United States', 'Unknown', 'United Kingdom, Hungary, Australia', 'Italy, Belgium', 'Mexico', 'Canada', 'Mexico', 'Argentina', 'India', 'United States', 'United States', 'Mexico, United States', 'United Kingdom', 'Turkey', 'United States', 'United States, United Kingdom, Germany', 'Unknown', 'United States', 'Switzerland', 'United States', 'Singapore, Malaysia', 'United States', 'Hong Kong, China', 'United States', 'United Kingdom', 'Unknown', 'France, Belgium, Luxembourg, Romania, Canada, United States', 'South Africa, Nigeria', 'Unknown', 'Unknown', 'Unknown', 'Unknown', 'United States', 'Unknown', 'Turkey', 'Spain', 'Nigeria', 'United Kingdom', 'United States', 'Nigeria', 'India', 'Indonesia', 'United States', 'United States', 'South Korea', 'United States, United Kingdom', 'United States', 'Canada', 'France', 'Turkey', 'United States', 'United States', 'Nigeria', 'Japan', 'Spain, France', 'Unknown', 'United States', 'United States', 'United States', 'United States', 'Indonesia', 'India', 'United Kingdom, Hong Kong', 'Turkey', 'Canada, United States', 'Turkey', 'United States', 'Mexico', 'United States', 'Netherlands', 'India', 'Unknown', 'United States', 'Germany, United States', 'United States', 'United States', 'United Kingdom', 'Unknown', 'Japan', 'Turkey', 'United States, Canada', 'United States', 'India', 'Hong Kong, China', 'United States, Mexico', 'Unknown', 'Unknown', 'United States', 'United States', 'India', 'United States', 'India', 'United States', 'Turkey', 'Canada', 'India', 'United Kingdom', 'United States', 'United States', 'United States', 'India', 'United States', 'United States', 'Turkey', 'China', 'United States', 'United States, United Kingdom', 'United Kingdom', 'India', 'India', 'India', 'Turkey', 'United States', 'Pakistan', 'India', 'Brazil, United States', 'Denmark, Brazil, France, Portugal, Sweden', 'United States', 'United Arab Emirates', 'Unknown', 'Colombia', 'Chile', 'Spain', 'United States', 'Brazil', 'United States', 'United States', 'Hong Kong', 'India', 'India', 'China, Taiwan', 'India', 'United States', 'Unknown', 'India, Turkey', 'Unknown', 'Philippines', 'United Kingdom', 'United Kingdom', 'South Korea, United States', 'United States', 'United States', 'Canada', 'Spain', 'Brazil', 'India', 'India', 'United States', 'Mexico', 'Unknown', 'India', 'United States', 'India', 'United States', 'Philippines', 'United States', 'United States', 'United States', 'United States', 'United States, Japan', 'Mexico', 'Netherlands', 'Unknown', 'United Kingdom, United States', 'India', 'India', 'Canada', 'Unknown', 'Spain', 'Philippines, Singapore', 'France, Belgium', 'Argentina', 'United States', 'United States', 'United States', 'Hong Kong', 'Hong Kong', 'Hong Kong, China', 'Hong Kong, China', 'Spain', 'United States', 'India', 'India', 'United States', 'Spain', 'Taiwan, China, France, United States', 'Germany', 'France, United States', 'Germany, Italy', 'Spain', 'United States', 'Argentina', 'United States', 'United States', 'United States, Spain', 'Thailand', 'India', 'India', 'Colombia, Peru, United Kingdom', 'Mexico', 'United Kingdom', 'Mexico', 'Japan', 'India', 'India', 'United States', 'Thailand, China, United States', 'Argentina, United States', 'Japan', 'Japan', 'India', 'France', 'United States', 'Brazil', 'United States', 'United States', 'Germany', 'Sweden, United States', 'India', 'India', 'Brazil', 'United States', 'United States', 'Indonesia', 'United States', 'United States', 'Uruguay, Spain, Mexico', 'Spain', 'Australia', 'India', 'France, Luxembourg, Canada', 'Germany', 'India', 'United States', 'Germany', 'Japan', 'Netherlands', 'United States', 'United States', 'India', 'India', 'Romania', 'Hong Kong', 'India', 'India', 'China', 'South Korea', 'United States', 'Austria', 'United States', 'United States', 'Unknown', 'United States, Mexico', 'India', 'United States', 'Spain', 'Denmark, Spain', 'Spain', 'Philippines', 'Unknown', 'Italy', 'United States', 'United States', 'India', 'United Kingdom', 'India', 'United States', 'United States', 'United States', 'United States', 'New Zealand', 'Chile, Argentina', 'France', 'Hong Kong, China', 'Spain', 'United States', 'Taiwan', 'United Kingdom, Belgium, Sweden', 'China', 'United States', 'Spain', 'United States', 'South Korea', 'United States', 'India', 'United States', 'United Kingdom', 'United States', 'Malaysia', 'India', 'Hong Kong', 'United States', 'India', 'Colombia', 'Turkey', 'India', 'United States', 'Denmark', 'Unknown', 'Unknown', 'India', 'United States', 'Italy, France', 'United Kingdom', 'Mexico', 'Unknown', 'United Kingdom', 'Unknown', 'India', 'India', 'United States', 'India, France', 'India', 'India', 'India', 'India', 'India', 'United States', 'Spain', 'Turkey', 'Turkey', 'Italy', 'United States', 'Brazil', 'Canada, Germany', 'India', 'Unknown', 'United States', 'India', 'United States', 'Unknown', 'Indonesia', 'India', 'Malaysia', 'United States', 'China', 'Pakistan, United Arab Emirates', 'United States', 'United States', 'Ghana, United States', 'India', 'Mexico, Finland', 'United States', 'United States', 'Indonesia', 'Indonesia', 'United States', 'India', 'Spain', 'Thailand', 'Spain', 'United States', 'United States', 'Unknown', 'Philippines', 'Philippines', 'Philippines', 'Philippines', 'Philippines', 'Uruguay', 'India', 'United States', 'United States', 'United Arab Emirates, United Kingdom, India', 'France, Belgium', 'Italy', 'Netherlands, Belgium', 'United States', 'United States', 'United States', 'United States', 'United States, Taiwan', 'Malaysia', 'Philippines', 'Philippines', 'Philippines', 'Philippines', 'Philippines', 'United States', 'Unknown', 'United Arab Emirates', 'United States', 'France', 'United States', 'United States', 'Philippines', 'Philippines', 'Philippines', 'Philippines', 'United States', 'Philippines', 'Philippines', 'Japan', 'Unknown', 'Austria, Iraq, United States', 'Thailand', 'Thailand', 'France, Belgium', 'Canada', 'United States, France', 'United States', 'Unknown', 'United Kingdom, Malawi', 'Paraguay, Argentina', 'United States', 'Spain, France', 'Spain, France', 'Philippines', 'Philippines', 'Philippines', 'Philippines', 'India', 'Philippines', 'Philippines', 'Philippines', 'Philippines', 'Philippines', 'Philippines', 'United States', 'India', 'Spain', 'United States', 'India', 'United States', 'France', 'India', 'South Korea', 'United States', 'Canada', 'India', 'United Kingdom, Russia, United States', 'United States', 'India', 'India', 'United States', 'Brazil', 'India', 'India', 'India', 'India', 'India', 'India', 'New Zealand', 'India', 'Spain', 'United States', 'United States', 'United States', 'United States', 'United States', 'Spain', 'United States', 'United Kingdom', 'India', 'United States', 'Taiwan', 'United States', 'United States', 'United States', 'United States', 'United States, Canada', 'United States', 'Malaysia', 'China, Hong Kong', 'Unknown', 'India, Pakistan', 'India', 'Unknown', 'South Korea', 'Spain', 'Unknown', 'Indonesia, Singapore', 'India', 'Indonesia', 'Indonesia', 'Indonesia', 'Philippines', 'Spain, Belgium', 'Argentina, Spain', 'United States, Germany', 'Argentina', 'United Kingdom, United States', 'United States', 'United States', 'Brazil', 'Mexico', 'India', 'United States', 'Pakistan', 'India', 'India', 'India', 'Pakistan', 'South Korea', 'United States', 'Indonesia', 'Indonesia', 'India', 'Philippines', 'United States', 'Spain', 'United States', 'Japan', 'India', 'Bangladesh', 'Thailand', 'Iceland, Sweden, Belgium', 'Unknown', 'Nigeria', 'United Kingdom', 'Thailand', 'India', 'United States', 'Japan', 'India', 'India', 'United States', 'United Kingdom', 'Unknown', 'United Kingdom', 'United Kingdom', 'United States', 'Unknown', 'United Kingdom', 'Mexico', 'United States', 'United States', 'United States', 'United States', 'Taiwan', 'Unknown', 'Japan', 'United States', 'United States', 'United Kingdom', 'United Kingdom', 'United States', 'United States', 'Uruguay, Argentina, Spain', 'United States', 'India', 'Unknown', 'Spain', 'France, Belgium', 'United States', 'Poland, United States', 'Singapore', 'Japan', 'Singapore', 'Singapore', 'Singapore', 'India', 'India', 'United States', 'India', 'United States', 'United States', 'Canada, Germany, France, United States', 'United States', 'United Kingdom, Japan', 'United States', 'Philippines', 'United States', 'United States', 'United States', 'United States', 'Spain', 'India', 'Mexico, United States', 'United States', 'United States', 'Italy', 'United States', 'Unknown', 'United Kingdom, United States', 'Unknown', 'Unknown', 'United States', 'Unknown', 'Pakistan', 'China, Hong Kong', 'Hong Kong', 'Mexico', 'Norway, Denmark, Netherlands, Sweden', 'Hong Kong, China', 'Hong Kong', 'India', 'Malaysia', 'Hong Kong', 'Hong Kong, China', 'Australia', 'Hong Kong, China, United States', 'China, Hong Kong', 'Hong Kong', 'Unknown', 'Hong Kong', 'India', 'United States', 'Hong Kong', 'China', 'United States', 'Ireland, Canada', 'Mexico', 'Italy, Switzerland, France, Germany', 'India', 'India', 'France', 'Mexico, Netherlands', 'United States', 'United States', 'Spain', 'United States, Canada', 'Indonesia', 'Indonesia', 'United States', 'United States', 'United States', 'France, Belgium', 'United States', 'United States', 'India', 'Canada', 'India', 'Indonesia', 'India', 'India', 'India', 'Spain', 'Philippines', 'Unknown', 'Hong Kong', 'Germany', 'United Kingdom, United States', 'India', 'United States', 'Brazil', 'United States', 'United States', 'France, Iran, United States', 'United States', 'India', 'India', 'India', 'India', 'India', 'India', 'India', 'India', 'Canada', 'India', 'United Kingdom, India', 'India', 'India', 'United States', 'Brazil', 'India', 'India', 'India', 'India', 'India', 'India', 'India', 'India', 'India', 'India', 'United States', 'India', 'India', 'United States', 'India', 'India', 'India', 'India', 'India', 'India', 'India', 'India', 'India', 'United States', 'United States', 'South Africa', 'India', 'India', 'India', 'Spain, France', 'Philippines', 'Hong Kong, China', 'Unknown', 'Russia, Poland, Serbia', 'Spain, Portugal', 'Colombia', 'United States, United Kingdom', 'India', 'United States', 'Unknown', 'United States', 'United States', 'Peru', 'Mexico, Argentina', 'Unknown', 'United Kingdom, Canada, United States, Cayman Islands', 'South Korea', 'India', 'Unknown', 'Hong Kong, China', 'Indonesia, United States', 'India', 'United States', 'India', 'India', 'India', 'United Kingdom, United States', 'Spain, France', 'United States', 'Indonesia', 'United States', 'United States, Israel, United Kingdom, Canada', 'Norway, Iceland, United States', 'United States', 'United States', 'Malaysia', 'United States', 'United Kingdom', 'United States', 'Unknown', 'United Kingdom, India, United States', 'United States', 'United States, Bulgaria', 'United States', 'Unknown', 'Unknown', 'United Kingdom', 'United Kingdom', 'United States', 'United Kingdom', 'United Kingdom', 'United Kingdom', 'United Kingdom', 'United Kingdom', 'India', 'Canada', 'India', 'India', 'India', 'India', 'India', 'India', 'Unknown', 'India', 'Unknown', 'India', 'India', 'India', 'India', 'India', 'India', 'India', 'India', 'India', 'India', 'India', 'India', 'India', 'India', 'India', 'India', 'India', 'India', 'India', 'India', 'India', 'United States', 'United States, Canada', 'United States', 'India', 'India', 'India', 'India', 'India, United States', 'India', 'India', 'India', 'India', 'India', 'India', 'India', 'India', 'Unknown', 'India', 'India', 'India', 'India', 'India', 'India, Australia', 'India', 'Pakistan', 'United States, United Kingdom', 'Brazil', 'China', 'United States', 'United States', 'Indonesia', 'Spain', 'United Kingdom, United States', 'United States', 'Brazil', 'Israel, United States', 'United States', 'United States', 'Italy', 'Netherlands', 'United States,', 'China, Canada, United States', 'United States', 'Belgium, United Kingdom, United States', 'India', 'United Kingdom, United States', 'France, Belgium', 'India', 'India', 'India', 'India, Germany, Austria', 'France', 'Spain', 'India', 'India', 'India', 'United States', 'Unknown', 'Canada', 'United States', 'India', 'India', 'India', 'India', 'India', 'United States', 'Spain, Mexico', 'United States', 'South Korea', 'India', 'United States, India', 'United Kingdom, France, United States', 'United States', 'United States', 'Argentina, Spain', 'India', 'India', 'India', 'China, Japan', 'United States', 'India', 'India', 'India', 'India', 'India', 'India', 'India', 'India', 'India', 'India', 'India', 'India', 'India', 'India', 'India', 'India', 'India', 'India', 'India', 'United States', 'Argentina, France', 'Australia', 'Australia', 'France, Belgium', 'Mexico', 'United States', 'Australia, United States', 'India', 'United States', 'Spain', 'China, United States, United Kingdom', 'United States', 'Brazil', 'Spain', 'Spain', 'Japan', 'Australia', 'United States', 'United States', 'Mexico', 'Argentina', 'United States', 'Spain', 'France, Luxembourg, United States', 'United States', 'United States', 'United States', 'United States', 'China, United States, Australia', 'India', 'United States', 'India', 'India', 'United States', 'India', 'India', 'India', 'Mexico', 'India', 'United States', 'India', 'United States', 'Spain', 'United Kingdom', 'Chile', 'Colombia, Mexico', 'United States', 'United States', 'United States', 'Japan', 'France', 'United States, Canada, Ireland', 'United Kingdom', 'China', 'Australia', 'India', 'Israel', 'Peru', 'United States', 'Spain', 'Chile, Peru', 'United States', 'Australia', 'Mexico', 'India', 'Thailand', 'United States', 'Germany', 'Spain', 'Argentina', 'United States', 'United States', 'United States', 'South Africa', 'United States', 'Argentina, Italy', 'India', 'Japan', 'United States', 'United States', 'Mexico', 'United Kingdom, United States', 'United States', 'Germany', 'United States', 'Canada, Japan, United States', 'United Kingdom, Canada, United States, Germany', 'France', 'United States', 'Italy, Switzerland, Albania, Poland', 'Mexico', 'China, Hong Kong', 'Spain', 'Colombia', 'Cambodia', 'India', 'India', 'Italy, United States, Argentina', 'United States', 'Argentina, Spain', 'United States', 'Canada', 'Unknown', 'Spain', 'Unknown', 'United States', 'Unknown', 'Unknown', 'India', 'United States', 'Spain', 'India', 'France', 'United States', 'Spain', 'United States', 'United States', 'Germany', 'United States', 'Brazil', 'South Korea', 'United States', 'United States', 'Canada, United States', 'United States', 'Brazil', 'United States, Canada, Indonesia, United Kingdom, China, Singapore', 'United States', 'France', 'Colombia', 'United Kingdom', 'United States', 'United States', 'Spain, Colombia', 'United States', 'United States', 'Mexico, United States', 'Argentina', 'Bulgaria', 'France', 'India', 'Argentina, Brazil, France, Poland, Germany, Denmark', 'India', 'United States', 'India', 'India', 'India', 'India', 'India', 'United Kingdom', 'United States', 'United States', 'Mexico', 'United Kingdom, Spain, United States, Germany', 'Canada', 'Canada', 'Philippines, Qatar', 'United States', 'Netherlands, Belgium, Germany, Jordan', 'United States', 'United States', 'India', 'United Arab Emirates, United States', 'United States', 'Unknown', 'Japan', 'Sweden', 'Poland', 'South Korea', 'United Kingdom', 'United States', 'United States', 'India', 'Bulgaria, United States', 'United States', 'Unknown', 'Argentina', 'Chile', 'Canada', 'United States', 'United States', 'India', 'India', 'India', 'United States', 'Germany', 'India', 'Spain', 'India', 'Canada', 'Canada', 'Canada', 'Canada', 'Canada', 'India', 'India', 'South Korea', 'United Kingdom', 'United States', 'Spain', 'United Kingdom, Germany', 'South Korea', 'Japan', 'Argentina', 'United States', 'United States', 'India', 'United States', 'United Kingdom, Canada', 'Georgia', 'United States', 'Unknown', 'United States', 'Unknown', 'Hungary', 'South Korea', 'United States, Mexico', 'United States', 'Germany', 'United States', 'Spain', 'United States', 'Singapore', 'Mexico', 'Argentina', 'Bulgaria, United States', 'Colombia', 'United States', 'Unknown', 'United States', 'United States', 'Canada, United States', 'United Kingdom', 'Colombia', 'United States', 'Soviet Union, India', 'India', 'Australia, United Arab Emirates', 'Czech Republic, United States', 'United States', 'South Korea', 'United States', 'Colombia', 'India', 'United States', 'United States', 'Spain', 'United States', 'Canada', 'France', 'Germany', 'United States', 'United States', 'United States', 'United States', 'Argentina', 'Canada', 'Mexico, United States', 'United Kingdom', 'United States', 'India', 'United States', 'South Korea, China, United States', 'United States', 'United States', 'India', 'India, Soviet Union', 'Australia, United States', 'United States', 'United States', 'India', 'Japan, United States', 'United States', 'United States', 'India, Mexico', 'Georgia, Germany, France', 'United Arab Emirates, Romania', 'United States', 'India', 'United States', 'Spain', 'United States', 'Australia, Canada', 'United States', 'United States', 'United States', 'Canada, United States', 'United States', 'United States', 'Canada', 'Mexico', 'Brazil', 'United States', 'United States', 'United States', 'India', 'India', 'Spain', 'United Arab Emirates', 'Germany', 'China', 'United States', 'United States', 'United States', 'Canada', 'United States', 'United States', 'United States', 'United Kingdom', 'United States', 'United States', 'United States', 'France', 'United States', 'India', 'India', 'New Zealand', 'India, Malaysia', 'Germany, Jordan, Netherlands', 'Turkey, France, Germany, Poland', 'Mexico', 'United Kingdom', 'United States', 'United States', 'Saudi Arabia', 'Spain', 'United States', 'Greece, United States', 'United States', 'South Korea', 'Spain', 'United States, Italy', 'United States', 'Canada', 'Norway, Germany', 'Mexico', 'United States', 'United States', 'United States', 'Unknown', 'France, Morocco', 'United States', 'Canada', 'Spain, Argentina', 'United States', 'United States', 'United States', 'United States, Canada', 'Cambodia, United States', 'United States, Denmark', 'United States', 'United States', 'United States', 'United States', 'Chile', 'Unknown', 'United States', 'United States', 'India', 'Unknown', 'Japan', 'Japan', 'United States', 'India', 'India', 'India', 'United States', 'India', 'India', 'Germany', 'United States', 'France', 'India, Soviet Union', 'Argentina, Spain', 'China', 'United Kingdom, Italy, Israel, Peru, United States', 'Argentina, Uruguay, Spain, France', 'Argentina', 'United States', 'United States', 'Australia', 'United States', 'United States', 'United States', 'United Kingdom, France, United States, Belgium', 'United States', 'United States', 'United States', 'United States', 'Mexico', 'United States', 'United States', 'United States', 'India', 'Unknown', 'Unknown', 'India', 'Unknown', 'Unknown', 'United States', 'France, Canada, China, Cambodia', 'Mexico', 'United States', 'United Kingdom, France, Belgium, United States', 'Spain, Germany', 'Ireland', 'United States', 'Unknown', 'United States', 'Australia', 'Chile, France', 'France', 'United States', 'United States', 'Sweden, United States', 'India', 'Spain', 'Spain', 'United States', 'United States', 'United States', 'United States', 'United States', 'United States', 'France', 'Australia', 'India', 'Netherlands', 'India', 'India', 'India', 'Spain', 'India', 'Spain', 'South Korea, United States', 'United States', 'United States', 'Netherlands, United States', 'United States', 'India', 'United States', 'United States', 'United States', 'United States', 'India', 'Brazil', 'United Kingdom', 'United States', 'Canada, United States', 'India', 'Indonesia', 'Spain', 'South Korea', 'India', 'United Kingdom', 'United States', 'United Kingdom', 'United Kingdom', 'India', 'United States', 'Brazil', 'France, United Kingdom, India', 'Canada, United States', 'India', 'India', 'India', 'Spain', 'United Kingdom', 'United Kingdom', 'United States', 'India', 'United States', 'India', 'United States', 'France', 'Unknown', 'Japan', 'Brazil', 'United States', 'India', 'India', 'United States', 'United States', 'India', 'Czech Republic, Slovakia', 'Germany, United States', 'United States', 'United Kingdom', 'France, Canada', 'United States', 'United States', 'Mexico', 'United States', 'United States', 'Singapore, France', 'India', 'India', 'France, Belgium', 'France, Belgium', 'United Kingdom', 'Canada', 'India', 'Canada', 'Spain, Switzerland', 'United States, Australia, China', 'United States', 'Canada, United States', 'India', 'South Africa, United States, Germany', 'Sweden', 'United States', 'United States', 'United States', 'United States', 'Germany', 'Germany', 'Germany', 'Italy', 'Nigeria', 'France, Belgium', 'Spain', 'United States', 'Mexico', 'United States', 'United States', 'Spain, Argentina', 'United States', 'United States', 'Brazil', 'United States', 'India', 'United States', 'India', 'United States', 'India', 'Spain', 'Argentina', 'Spain', 'United Kingdom', 'United States', 'United States', 'Brazil', 'United States', 'United States', 'United States', 'United States', 'South Korea', 'United Kingdom, Japan, United States', 'India', 'Canada', 'United Kingdom', 'India', 'United States', 'Portugal, Spain', 'United States', 'Turkey', 'United States', 'India', 'United States', 'India', 'Brazil', 'Brazil', 'United States', 'United States', 'Spain', 'United States', 'Spain, Italy, Argentina', 'India', 'Germany', 'Canada', 'Spain', 'Chile, Spain, Argentina, Germany', 'United States', 'United Kingdom', 'United Kingdom, United States', 'Italy', 'West Germany', 'United States', 'Mexico', 'United States', 'India', 'India', 'India', 'Spain', 'Spain', 'Canada, United States', 'United States', 'Mexico', 'France', 'United Kingdom', 'Brazil', 'United States', 'France', 'India', 'United States', 'United States', 'Germany', 'Austria, Czech Republic', 'Germany', 'Germany', 'France', 'United States', 'Lebanon, Qatar', 'United States', 'United Kingdom, Jordan, Qatar, Iran', 'United States', 'United States', 'Canada', 'United States', 'United States', 'India', 'United States', 'France, Belgium', 'India', 'Mexico', 'Mexico', 'United States', 'France, South Korea, Japan', 'United States', 'United States', 'United States', 'Germany', 'United Kingdom', 'Israel, Germany, France', 'Mexico', 'United States', 'United States', 'United States, Hungary', 'United States', 'United States', 'United States', 'United States', 'France', 'Canada, United States', 'United States', 'United States', 'India', 'United States', 'Peru', 'India', 'United States', 'United States', 'India', 'Mexico', 'United States', 'United States', 'India', 'Mexico', 'United States', 'United States', 'France, Qatar', 'Germany', 'India', 'United States', 'United States', 'United States', 'Austria', 'United Kingdom', 'United States', 'Unknown', 'Spain', 'Canada', 'Canada, United States', 'United Kingdom, Germany, Canada', 'France', 'France, Belgium', 'France', 'Spain', 'United States', 'France', 'Japan', 'Japan', 'Japan', 'France', 'United States', 'United States', 'United States', 'United States', 'United States', 'Ireland, South Africa', 'United States', 'New Zealand', 'Brazil', 'India', 'Chile, United States, France', 'Spain', 'United States, Canada', 'Unknown', 'Netherlands', 'India', 'United States', 'Italy', 'Denmark, United States', 'United States', 'United States', 'Unknown', 'Unknown', 'Unknown', 'Unknown', 'Unknown', 'Unknown', 'Canada, United States', 'United States', 'United States', 'United Kingdom', 'United States', 'United States', 'United Kingdom', 'United Kingdom', 'United States', 'United States', 'United States', 'United States', 'United Kingdom', 'United States', 'United States', 'United States', 'United States', 'United States', 'United States', 'United Kingdom', 'United States', 'United Kingdom', 'United States', 'United States', 'United States', 'Canada', 'India, United Kingdom', 'United States', 'India', 'Mexico', 'United States', 'China, Hong Kong', 'United States', 'United States', 'United States', 'Canada, United Kingdom, United States', 'United States', 'United States', 'Belgium, France, Netherlands', 'United States', 'United States', 'United States', 'Canada', 'United Kingdom', 'United Kingdom', 'United States', 'China, United States', 'United States', 'United States', 'Mexico', 'Hong Kong, China', 'Hong Kong, China', 'United States', 'United States', 'United States', 'United States', 'Canada', 'United States', 'United States', 'United States', 'United States', 'United States', 'United States', 'United States', 'United States', 'United States', 'United Kingdom, Ukraine, United States', 'United States', 'United States', 'United States', 'United States', 'United States', 'United States', 'United States', 'United States', 'United States', 'United States', 'United States', 'Mexico', 'United States', 'United States', 'United States', 'United States', 'United States', 'United States', 'United States', 'United States', 'Unknown', 'United States', 'United States', 'United States', 'United Kingdom,', 'United States', 'United States', 'United States', 'United States', 'United States, Bermuda, Ecuador', 'United States', 'United States', 'United States', 'United Kingdom, Egypt, United States', 'United States', 'United States', 'United States', 'United States', 'United States', 'United States', 'United States', 'United States', 'United States', 'United States', 'United States', 'United States', 'United States', 'United States', 'United States', 'United States, France, United Kingdom', 'Spain, Mexico, France', 'United States', 'Denmark', 'United States', 'United States', 'United States', 'United States', 'India', 'India', 'Nigeria', 'Norway, Iceland, United States', 'India', 'United Kingdom', 'India', 'India', 'India', 'United States', 'Canada', 'Canada', 'Iceland', 'Turkey', 'United States', 'United States', 'United States', 'United States, South Africa', 'Spain', 'United States', 'United States', 'United States', 'United States', 'Unknown', 'Hong Kong, China, Singapore', 'United States', 'United States, Germany', 'United States', 'United States', 'United States', 'United States', 'South Korea', 'United Kingdom', 'United States', 'United States', 'United States', 'South Africa, China, United States', 'Argentina', 'United Kingdom', 'United States', 'Unknown', 'United States', 'Indonesia', 'Canada', 'Egypt', 'United States', 'Denmark, France, Poland', 'United States', 'United States', 'Unknown', 'United States', 'United States', 'United States', 'Indonesia', 'New Zealand, United Kingdom', 'India', 'United States', 'Pakistan', 'United States, China', 'India', 'United States', 'United States, United Kingdom', 'United Kingdom, United States', 'United States', 'Netherlands, Denmark, South Africa', 'Canada, United States', 'India', 'United States', 'United States', 'United States', 'United States', 'United States', 'United States', 'United States', 'Unknown', 'United Arab Emirates, United States', 'United States', 'Brazil', 'United States', 'Netherlands', 'United Kingdom', 'United States', 'United States', 'Canada', 'India', 'Iran, France', 'United States, United Kingdom, France', 'United States', 'Israel, United States', 'United States', 'United States', 'United States', 'India', 'United States', 'United States', 'Canada', 'United States', 'Turkey', 'India', 'India', 'India', 'India', 'India', 'India', 'Egypt', 'India', 'United States', 'United Kingdom, United States, France, Germany', 'Argentina', 'Mexico', 'Canada', 'United States, United Kingdom', 'United States', 'Turkey, United States', 'Canada', 'France', 'Australia, France', 'India', 'Canada, United States', 'United States', 'United States', 'United States', 'United States, Chile', 'United Kingdom', 'India', 'United States', 'India', 'India', 'Egypt', 'United States, Bulgaria', 'Spain', 'United States', 'United States', 'United States', 'Sweden, United States', 'United States', 'Ireland, United Kingdom, United States', 'Spain, Italy', 'United States', 'United States', 'United States', 'United Kingdom', 'United Kingdom, France, Germany', 'United States, Germany, Canada', 'United States', 'United States, India', 'United States', 'United States', 'United Kingdom', 'India', 'Egypt', 'United States', 'United States', 'United States', 'United States', 'United States', 'United States', 'Canada', 'Canada, Luxembourg', 'United States', 'United Kingdom, United States', 'United States', 'United States, Canada', 'United States', 'United Kingdom', 'India', 'United States', 'United States', 'United States', 'United States', 'Egypt', 'United States', 'Egypt', 'India', 'Spain', 'United States', 'United States', 'United States', 'India, Germany', 'India', 'United States', 'Brazil, Netherlands, United States, Colombia, Austria, Germany', 'United States', 'Egypt', 'Unknown', 'United States', 'India', 'United States', 'United States', 'United States, Canada', 'France, Canada, Belgium', 'United States', 'Egypt', 'Indonesia', 'United States', 'United Kingdom, United States', 'United States', 'United States', 'United States', 'South Korea', 'United States', 'Canada', 'United States, Canada', 'United Kingdom', 'Chile', 'United Kingdom', 'Bulgaria, United States, Spain, Canada', 'United States', 'Sweden, Netherlands', 'India', 'India', 'Turkey', 'France, United States, Mexico', 'India', 'Brazil', 'Canada', 'United States', 'Australia, United Kingdom, United Arab Emirates, Canada', 'United States', 'United States', 'Singapore, United States', 'United States, Canada', 'India', 'United States', 'United States', 'United States', 'United States', 'Pakistan', 'Turkey', 'United States', 'United States', 'Thailand', 'Thailand', 'Thailand', 'Spain', 'India', 'Australia, Armenia, Japan, Jordan, Mexico, Mongolia, New Zealand, Philippines, South Africa, Sweden, United States, Uruguay', 'United States', 'United States', 'United States', 'United States', 'United States', 'United States', 'United States, Canada', 'United States, Canada', 'United States', 'United States', 'United States', 'Chile', 'India', 'United States', 'United States, France', 'United States', 'India', 'India', 'United States, Australia', 'United States', 'Germany', 'United Kingdom, United States', 'United States', 'United States', 'United States', 'Indonesia', 'Egypt', 'United Kingdom, Ireland', 'United States', 'United States', 'Japan, United States', 'United States', 'India', 'United Kingdom', 'Canada', 'United States', 'United States', 'United States', 'Turkey', 'Germany', 'Unknown', 'United States', 'India', 'Egypt', 'United States, India', 'India, Iran', 'India', 'Unknown', 'India', 'India', 'India', 'United States', 'United States', 'United States, Germany', 'United States', 'Denmark', 'United States', 'United Kingdom', 'United States', 'United Kingdom, France', 'United States', 'India', 'India', 'Canada', 'United States', 'Vietnam', 'India', 'United States', 'United States, United Kingdom', 'Spain', 'United States', 'United States', 'United States', 'Argentina, Spain', 'United States', 'United States', 'United States', 'United States', 'Australia, United States', 'France', 'France', 'United States', 'France, Belgium, Spain', 'United States', 'United States', 'United States, France', 'Germany, United States', 'United States', 'Canada', 'United States', 'Canada', 'Denmark, Sweden, Israel, United States', 'India', 'United Kingdom', 'Ireland, United Kingdom', 'United States, Iceland', 'United States', 'United States', 'Netherlands', 'United States', 'India', 'United States', 'United Kingdom, Russia', 'Canada, United States', 'Brazil', 'United States', 'United States', 'United States', 'United States', 'India', 'Australia', 'United States', 'United States', 'United States', 'China', 'Canada', 'Canada', 'Canada', 'Indonesia, Singapore', 'Netherlands, Denmark, France, Germany', 'United States', 'United States', 'United States', 'South Korea, Japan', 'United States', 'United States', 'Belgium, France', 'United States', 'Indonesia', 'Argentina', 'United Kingdom, Pakistan', 'India', 'Unknown', 'Unknown', 'United States', 'United States', 'United States', 'United States', 'United States, United Kingdom', 'France, New Zealand', 'India', 'Ireland', 'Philippines', 'United Kingdom, United States, Australia', 'United States', 'United States', 'United States, Mexico', 'United Kingdom, Czech Republic, United States, Germany, Bahamas', 'Hong Kong', 'Hong Kong', 'United States', 'China, Germany, India, United States', 'United States, Australia', 'Canada', 'Norway', 'India', 'United States', 'India', 'India', 'India', 'Pakistan', 'Germany, Sri Lanka', 'United States', 'Indonesia', 'United States, Sweden', 'United Kingdom, United States', 'United States', 'United States', 'India', 'United States', 'Hong Kong, China', 'United States', 'India, France', 'United States', 'Unknown', 'Unknown', 'Unknown', 'India', 'India', 'United States', 'Nigeria', 'United States', 'China', 'Unknown', 'United States, India, Bangladesh', 'United Kingdom, United States', 'United States, Canada, France', 'United States', 'United States', 'Canada, United States', 'United States', 'United States', 'United States', 'Argentina', 'Pakistan', 'India', 'United States', 'Brazil, France, Germany', 'United Kingdom', 'United States', 'United States, United Kingdom, Australia', 'United States', 'United States', 'United States', 'United States', 'United States', 'United Kingdom, United States', 'Germany, United States, Hong Kong, Singapore', 'France, Germany, Switzerland', 'United States', 'United States, Germany', 'United States', 'India', 'India', 'Germany, France, Luxembourg, United Kingdom, United States', 'India', 'Canada, United States, United Kingdom', 'United States', 'India', 'United Kingdom, Canada, Italy', 'Czech Republic, France', 'United States', 'Vietnam', 'Ireland', 'Turkey', 'India', 'Unknown', 'United States', 'Canada', 'Unknown', 'United States', 'Canada', 'United States', 'United States, Germany', 'India', 'Taiwan, Hong Kong, United States, China', 'United States', 'United States', 'India', 'Turkey', 'United States', 'United States', 'United States', 'Argentina', 'India', 'United States, India', 'United States', 'Germany, Australia', 'Germany', 'United States', 'United States', 'Ireland', 'India', 'United Kingdom, Poland, United States', 'United States, United Kingdom, France', 'India', 'India', 'United Kingdom, United States', 'United States', 'Netherlands', 'United States', 'United Kingdom', 'India', 'United States', 'United States', 'India', 'United States', 'Canada', 'United States', 'United States', 'United Kingdom', 'India', 'United States', 'United States', 'Denmark, Zimbabwe', 'United States', 'United States', 'Unknown', 'United States', 'Egypt', 'United Kingdom, South Africa', 'United States', 'Finland, Sweden, Norway, Latvia, Germany', 'Canada', 'India', 'India', 'China, Hong Kong', 'United Kingdom', 'United Kingdom', 'France, Belgium', 'United Kingdom, United States', 'India', 'United States', 'Hong Kong', 'United States', 'United States', 'South Africa, United States, New Zealand, Canada', 'United States, Italy, United Kingdom, Liechtenstein', 'United States', 'United States', 'United States', 'Denmark, France, Belgium, Italy, Netherlands, United States, United Kingdom', 'United States', 'United States', 'United States, Australia, Mexico', 'France', 'France', 'France', 'United Kingdom', 'United Kingdom', 'United States', 'United States', 'United Kingdom, Czech Republic, Germany, United States', 'Hong Kong', 'United States', 'United States', 'United States', 'France, China, Japan, United States', 'United States', 'United States', 'United States', 'United States', 'Unknown', 'United States', 'Germany', 'Germany, Belgium', 'United States', 'Pakistan, Norway, United States', 'India', 'United States', 'United Kingdom', 'United States', 'United States', 'United States', 'United States', 'United States', 'India', 'India', 'India', 'India', 'United States, Canada, Belgium, United Kingdom', 'Venezuela', 'Spain', 'Unknown', 'Netherlands', 'United Kingdom', 'United States', 'France', 'Unknown', 'Unknown', 'United Kingdom', 'United States', 'Indonesia', 'Australia', 'Canada, France, Italy, Morocco, United States', 'United States', 'India', 'United States', 'Canada, Spain, France', 'United States', 'Canada', 'Hong Kong, United States', 'United States, Indonesia', 'United States', 'Poland', 'Argentina', 'Mexico', 'India', 'Italy', 'United States', 'United Kingdom, United States', 'United States', 'Spain, France, Italy', 'United States', 'United Kingdom', 'United States', 'Norway', 'United States', 'United States', 'United States', 'Turkey', 'Turkey', 'Turkey', 'United States', 'United States', 'India', 'United States', 'United States', 'Germany', 'India', 'United States', 'India', 'Egypt', 'United States', 'United States', 'United States', 'Nigeria', 'United Kingdom', 'United States', 'United States', 'Indonesia', 'United States', 'United States, Canada', 'United States, Germany', 'Italy, France', 'India', 'United States', 'United Kingdom, Canada, United States', 'United Kingdom', 'Unknown', 'United States', 'United Arab Emirates', 'Hong Kong', 'Canada, United States', 'Egypt', 'United States', 'Hong Kong', 'United Arab Emirates, United States, United Kingdom', 'Spain', 'United States', 'United States', 'Mexico', 'United Kingdom', 'United States', 'United States', 'United Kingdom', 'United States', 'Brazil', 'United Kingdom, Israel, Russia', 'United States', 'Germany, United States', 'United Kingdom', 'United States, Germany', 'United States, Brazil', 'United States', 'United States', 'United States, France, Mexico', 'United States, Nicaragua', 'Egypt', 'United States', 'United States', 'United States', 'Germany', 'Egypt', 'France, United Kingdom, United States', 'United States', 'United Kingdom, United States, Spain, Germany, Greece, Canada', 'United Kingdom, United States, Spain, Germany, Greece, Canada', 'United States', 'Canada, United States', 'United States', 'Vietnam', 'United States, United Kingdom', 'United States', 'Brazil, France', 'Russia', 'Indonesia', 'United States, Italy', 'Indonesia', 'Indonesia', 'Japan, United States', 'India', 'India', 'United States', 'United States, Australia', 'United States', 'United Kingdom, United States', 'United States', 'United States', 'India', 'Thailand, United States', 'Japan', 'United States, Australia', 'Japan', 'Japan', 'India', 'Indonesia', 'United States', 'United Kingdom, Denmark, Canada, Croatia', 'Philippines', 'United States', 'United States', 'United States', 'China, Hong Kong', 'United States', 'United States', 'United Kingdom', 'India', 'Japan', 'United Kingdom, United States', 'United States', 'Australia', 'India', 'United States', 'United States', 'United States', 'United States', 'Egypt', 'United States, France, United Kingdom, Japan', 'United States, United Kingdom, Denmark, Sweden', 'United States', 'United States', 'United States, Canada', 'United States, United Kingdom', 'United States, United Kingdom, Italy', 'United States, France, Canada, Spain', 'India', 'Germany, United States', 'India', 'United States', 'United States', 'United States', 'Nigeria', 'United States', 'United States', 'Canada', 'United Kingdom', 'Chile', 'Turkey', 'Turkey', 'India', 'Turkey', 'United States, United Kingdom, Canada', 'United States, Japan', 'United States', 'India', 'United States', 'Egypt', 'United States', 'United States', 'United Kingdom', 'United States', 'Mexico', 'United Kingdom', 'Russia, United States, China', 'Unknown', 'United States', 'United States, Canada, Germany', 'United States', 'United States, Canada', 'United States', 'United States', 'India', 'United States', 'United States', 'Australia', 'United States', 'Ireland, United States', 'United States, United Arab Emirates', 'United States', 'United States', 'Australia', 'United States', 'United States', 'United States', 'United States, China', 'United States', 'United States', 'United States', 'United States', 'United States', 'India', 'United States', 'Hong Kong, China', 'United States', 'India', 'China', 'Australia', 'United Kingdom', 'India, United States', 'India', 'United States', 'United Kingdom', 'France', 'Pakistan', 'Turkey', 'Australia', 'United States, Ireland', 'United States', 'Thailand', 'Thailand', 'India', 'Unknown', 'United States', 'United States', 'United States', 'India', 'United States', 'United States, South Africa', 'United States, Canada', 'India', 'Ireland, United Kingdom, Italy, United States', 'Unknown', 'United States', 'United States', 'United Kingdom', 'United States', 'Poland,', 'United States', 'United States, Canada', 'United States, Canada', 'Slovenia, Croatia, Germany, Czech Republic, Qatar', 'United States, United Kingdom', 'United States', 'Mexico, United States', 'United States', 'Canada, United Kingdom, Netherlands', 'United States', 'United States', 'India', 'United States', 'India', 'India', 'United Kingdom', 'Canada', 'United States, Spain, Germany', 'United States', 'United States', 'United States', 'Argentina', 'India, Japan', 'United Kingdom', 'United States', 'United States', 'China', 'China, South Korea, United States', 'United Kingdom', 'United States', 'United States', 'Unknown', 'Thailand', 'United Kingdom, France, Belgium', 'United States', 'United States', 'Canada, Ireland, United States', 'China, Hong Kong', 'India', 'United States, France', 'United States', 'United States, Germany', 'France', 'United States', 'United Kingdom, United States, Dominican Republic', 'Turkey', 'Serbia, United States', 'India', 'United Kingdom, United States', 'United States, Senegal', 'United States', 'India', 'United States', 'United States', 'United States', 'United States', 'United States', 'United States', 'United Kingdom', 'Germany, United States', 'Germany, United Kingdom, United States', 'India', 'Mexico', 'United States', 'Canada', 'Japan', 'Japan', 'Japan', 'United States', 'Canada', 'South Africa, Germany, Netherlands, France', 'India', 'India', 'United States', 'United States', 'India', 'India', 'United States', 'Unknown', 'Spain', 'Egypt', 'United States', 'Unknown', 'India', 'France, Belgium', 'Canada', 'United States', 'Vietnam', 'India', 'Unknown', 'India', 'India', 'Pakistan', 'United States', 'Poland', 'United States', 'United States', 'Ireland, United States, France', 'United States', 'United States', 'United States', 'Unknown', 'United Kingdom', 'India', 'United States', 'India', 'Unknown', 'United States', 'India', 'India', 'United States', 'Unknown', 'United States', 'United States', 'United States', 'United States, Australia', 'Germany, United States, Canada', 'Hong Kong', 'United States', 'United Kingdom, Germany, Canada, United States', 'India', 'India', 'India', 'India', 'India', 'India', 'United States, France, Canada, Lebanon, Qatar', 'India', 'United Kingdom', 'India', 'India', 'India', 'United States', 'India', 'United States', 'India', 'India', 'United States', 'United States', 'United States', 'United States', 'India', 'India', 'India', 'India', 'India', 'United States', 'United States', 'United States', 'Philippines', 'Netherlands, Belgium, United Kingdom, United States', 'United States, Japan', 'United States', 'United Kingdom', 'France', 'United States', 'United States', 'United States', 'United States', 'Hungary', 'United Kingdom', 'United States', 'United States, Canada', 'United States', 'France, Belgium, China, United States', 'India', 'United States', 'Malaysia', 'United States, Chile, Israel', 'United States', 'United States, United Kingdom, Australia', 'United Kingdom', 'United Kingdom, Norway, Denmark, Germany, Sweden', 'India', 'Norway, Denmark, Sweden', 'Unknown', 'Unknown', 'Unknown', 'Unknown', 'India', 'Unknown', 'Unknown', 'Unknown', 'United States', 'United States', 'United States', 'India', 'Hong Kong, China, United States', 'Mexico, United States', 'United States', 'China, India, Nepal', 'Unknown', 'United Kingdom', 'Turkey', 'India', 'United States', 'India', 'Argentina', 'United States', 'United States', 'Italy', 'India', 'Thailand', 'Hong Kong', 'United States', 'United States', 'India', 'United States, Mexico', 'United States', 'United Kingdom, South Korea', 'United States, France', 'France', 'France', 'United States, Ireland', 'United States', 'United States', 'United States', 'Unknown', 'India', 'United States, Canada', 'United States, Australia', 'China', 'Hong Kong', 'United States', 'Unknown', 'Denmark, China', 'United States, Italy', 'France', 'United States', 'United States', 'United States', 'United States', 'Canada', 'Hong Kong', 'United States', 'Mexico', 'United States', 'United States, India', 'Egypt', 'Unknown', 'Hong Kong', 'Australia', 'Australia', 'United States, Greece, Brazil', 'United States', 'Unknown', 'Unknown', 'Unknown', 'United States', 'United States', 'United States', 'United Kingdom', 'United Kingdom, United States', 'France, United States', 'Mexico', 'United States', 'United Kingdom, United States', 'Canada', 'Hong Kong', 'Germany', 'India', 'Unknown', 'United States, Australia, Samoa, United Kingdom', 'United States', 'Hong Kong', 'India', 'Hong Kong', 'United States', 'Egypt', 'Indonesia', 'Germany, United Kingdom', 'United States', 'United States', 'Hong Kong', 'Argentina', 'India', 'India', 'Argentina, Chile, Peru', 'India', 'India, France', 'United States', 'India', 'Australia, United States', 'United States', 'United States', 'Hong Kong', 'India', 'United States', 'Chile', 'France, Belgium', 'France', 'Norway', 'India', 'Hong Kong', 'India', 'India', 'India', 'United States', 'United States, China, Hong Kong', 'United Kingdom, France', 'India', 'India', 'United States', 'United States', 'United States', 'United Kingdom', 'United Kingdom', 'India', 'India', 'United Kingdom', 'Canada, United States', 'Unknown', 'India', 'Hong Kong, China', 'United States', 'United States', 'India', 'Unknown', 'United States', 'Japan', 'United States, United Kingdom', 'India', 'South Korea', 'Argentina', 'India', 'United States', 'Hong Kong', 'Egypt', 'United States', 'United States', 'India', 'Mexico', 'Canada', 'United States', 'Canada', 'Poland, West Germany', 'United Kingdom', 'India', 'United States', 'South Korea', 'Germany, United States, Sweden', 'United States', 'United States', 'Canada, Spain', 'Indonesia', 'Nigeria', 'India', 'United Kingdom', 'United States, Cambodia', 'United States, Greece', 'United States', 'India', 'Canada, United States', 'United States, Canada', 'India', 'Japan', 'Norway, United Kingdom, France, Ireland', 'United States', 'United States', 'United States', 'United States', 'United States, United Kingdom', 'United Kingdom, Poland', 'Malaysia', 'United States', 'India', 'United States', 'United States', 'Nigeria', 'China, Canada, United States', 'United States', 'United States, Spain', 'United States', 'Canada', 'Egypt', 'Germany, United Kingdom', 'United States', 'United States', 'United States', 'United States', 'United States', 'United States', 'United States', 'United States', 'United States', 'United States', 'United States', 'United States', 'United States', 'United States, Germany', 'United Kingdom, United States', 'United States', 'France, Belgium', 'Pakistan, United States', 'Germany, United States', 'United States', 'India', 'India', 'Australia', 'United States', 'United States', 'United States', 'Israel, Sweden, Germany, Netherlands', 'Hong Kong', 'United States', 'Egypt', 'United States', 'India', 'France', 'United States', 'United States', 'United States', 'Canada', 'India', 'United States', 'Egypt', 'United States', 'Canada', 'Italy', 'Switzerland, France', 'United States, Canada', 'United States, Canada', 'Unknown', 'Hong Kong', 'United Kingdom', 'United States', 'Thailand', 'United Kingdom, United States', 'Unknown', 'India', 'United States, Mexico', 'Italy, India', 'Ireland', 'United States, Botswana', 'India', 'United States', 'Japan', 'United States', 'United States', 'Unknown', 'United States', 'United States', 'India', 'United States', 'United States', 'United States', 'United States', 'Chile, Argentina, France, Spain, United States', 'United States', 'United States', 'United States', 'United States', 'India', 'United States', 'United States', 'United States', 'United States, Australia', 'India', 'Chile', 'United States', 'United States', 'India, United States', 'United States, India, South Korea, China', 'United States', 'United States', 'United States', 'United States', 'United States', 'United States', 'United States', 'United States', 'United States', 'United States', 'United States', 'United States', 'United States', 'United States', 'United States', 'United States', 'United States', 'United States', 'United States', 'United States', 'United States', 'United States', 'United States', 'United States', 'United Kingdom, Canada', 'Israel', 'Italy', 'Denmark, Germany, Belgium, United Kingdom, France', 'Denmark, Germany, Belgium, United Kingdom, France, Sweden', 'United Kingdom', 'United States', 'France, Switzerland, Spain, United States, United Arab Emirates', 'Australia', 'United States', 'United States', 'United States', 'Spain', 'United States', 'Thailand', 'Thailand', 'Unknown', 'United States', 'Egypt', 'Hong Kong', 'Brazil, India, China, United States', 'India', 'United States', 'United States', 'United States', 'United States', 'United Kingdom', 'Italy, United States', 'Thailand', 'United States', 'India', 'United States', 'United States', 'India', 'Denmark, France, United States, Sweden', 'Australia, Iraq', 'United States', 'South Korea', 'China, Hong Kong', 'Unknown', 'China, Morocco, Hong Kong', 'United States', 'Hong Kong', 'India', 'Australia, United Arab Emirates', 'India', 'United Kingdom', 'Canada, United States, Germany', 'China', 'United Kingdom', 'United Kingdom, Thailand', 'India', 'United States', 'India', 'Venezuela, Colombia', 'Thailand', 'United States', 'United States', 'Hong Kong', 'United Kingdom', 'Spain', 'United States', 'India', 'Canada', 'United States', 'India', 'India', 'United States', 'United States', 'India', 'United States', 'United States', 'Turkey', 'United States', 'India', 'India', 'Thailand', 'United States', 'Malaysia', 'United Kingdom, United States', 'United States, Spain', 'Canada', 'United States', 'France, Germany, Czech Republic, Belgium', 'United States', 'United States, Australia', 'Unknown', 'France, Belgium', 'United States', 'India', 'Thailand', 'Nigeria', 'India', 'United States', 'United States', 'India', 'India', 'Argentina', 'France', 'United States', 'France, Belgium', 'United States, United Kingdom', 'United States', 'Canada, United States', 'Switzerland, Vatican City, Italy, Germany, France', 'United States', 'Portugal, France, Poland, United States', 'United Kingdom', 'United States', 'United States', 'United States', 'United States', 'United States', 'United States', 'United States', 'United States', 'India, Switzerland', 'United States', 'India', 'United States', 'United States', 'Hong Kong', 'United States', 'United States', 'Canada', 'India', 'United States', 'Canada, India', 'United Kingdom', 'India', 'United States', 'United Kingdom, United States', 'United States, Morocco', 'United States', 'United States', 'United States', 'Brazil', 'India', 'United States', 'India', 'United States', 'China', 'India', 'India', 'United States', 'India', 'Singapore, Japan, France', 'India', 'South Korea', 'India', 'Pakistan', 'United States', 'Egypt', 'India', 'United States', 'Canada', 'Australia', 'United States', 'India', 'United Kingdom', 'Unknown', 'Egypt', 'United States', 'Malaysia', 'Canada, Mexico, Germany, South Africa', 'United States', 'United Kingdom, United States, Canada', 'Germany, France, United States, Canada, United Kingdom', 'United States', 'United States', 'Hong Kong', 'India', 'Hong Kong, United States', 'United States, United Kingdom', 'Mexico', 'United States', 'India', 'India', 'India', 'India', 'Nigeria', 'Italy', 'United Kingdom', 'United States', 'United States', 'United States', 'United States', 'United States', 'United States', 'Egypt', 'United States', 'United States, Uruguay', 'India, Canada', 'Ireland, Canada, United Kingdom, United States', 'Canada', 'United Kingdom, Germany', 'Unknown', 'United States', 'United States', 'India', 'Mexico', 'Hong Kong', 'United States, Germany, Australia', 'India', 'United States', 'United States', 'United States', 'United States', 'United States', 'India', 'Italy', 'United States', 'India', 'Italy, France', 'Turkey', 'Canada', 'India', 'India', 'United States', 'India', 'India', 'India', 'Egypt', 'India', 'India', 'Egypt', 'South Africa, United States', 'Unknown', 'United States', 'India', 'India', 'United States', 'Australia, France, Ireland', 'France', 'Canada', 'Australia, India', 'India', 'India', 'India', 'United States', 'India', 'India', 'United States', 'United States', 'Egypt', 'United States, United Kingdom, Australia', 'United States', 'United States', 'United States', 'Italy, France', 'United States', 'United States', 'United States', 'United States', 'United States', 'United States, United Kingdom, Canada, Japan', 'United States', 'United States', 'United States', 'United States', 'Sweden, United Kingdom, Finland', 'United States', 'Hong Kong, Taiwan', 'United States, United Kingdom, Spain, South Korea', 'United States', 'United States', 'United States', 'United Kingdom', 'United States', 'United Kingdom', 'United States', 'United Kingdom', 'United Kingdom', 'United States, United Kingdom', 'Turkey', 'United Kingdom, France, United States', 'Guatemala', 'United States', 'United States', 'United States', 'United Kingdom, France', 'Mexico', 'United States', 'India', 'India', 'India', 'India', 'Hong Kong', 'United States', 'India', 'United States', 'United States', 'United States, Germany, United Kingdom, Australia', 'India', 'United States', 'Australia', 'Australia', 'India', 'United States', 'United States, United Arab Emirates', 'United Kingdom, United States', 'India, United States', 'Thailand', 'Italy, France, Switzerland', 'India', 'United States', 'Canada, France, United States', 'United States', 'India', 'Indonesia', 'Switzerland, United States', 'Peru', 'United States', 'United States', 'Thailand, Canada, United States', 'China, Hong Kong, United States', 'China, Hong Kong', 'United States, France', 'United States', 'United States', 'United States', 'United States', 'United States', 'United Kingdom, New Zealand', 'United States', 'United States', 'United States', 'United States', 'United States', 'India', 'United States', 'Indonesia', 'Mexico', 'United States', 'United States', 'Czech Republic, United Kingdom, France', 'United States', 'United States', 'Australia, United Kingdom, Canada', 'United States', 'United States', 'United States', 'United Kingdom', 'United States', 'United States', 'United Kingdom', 'United States', 'United States', 'United Kingdom', 'United States', 'United States, France', 'Jamaica, United States', 'United States', 'United States', 'United States', 'Spain', 'United States', 'United States', 'Canada', 'Canada, United States, United Kingdom', 'United States', 'United Kingdom', 'United States', 'United States', 'Egypt', 'United States', 'India', 'Thailand', 'United States', 'United States', 'Australia, United Kingdom, United States, New Zealand, Italy, France', 'India', 'United States', 'Canada', 'United States, United Kingdom', 'Australia, United Kingdom', 'Netherlands, Belgium', 'United States', 'United States', 'Brazil', 'United States', 'United States', 'Italy, France', 'Thailand', 'India', 'Israel', 'United Kingdom, France, Canada, Belgium, United States', 'United States', 'Denmark, United Kingdom, Sweden', 'India, France', 'India', 'United States', 'India', 'United States', 'United States', 'United States', 'United States', 'Indonesia', 'United States', 'United States', 'United States', 'India', 'United States, United Kingdom', 'United States, Canada', 'United States, Sweden', 'China, Hong Kong', 'Hong Kong', 'India', 'India', 'United States, Germany', 'India', 'France', 'United States', 'United States', 'Egypt', 'United States', 'United States', 'India', 'United States', 'Hong Kong, United States', 'United States, Hong Kong', 'Unknown', 'India', 'United States, Kazakhstan', 'Argentina, France, United States, Germany, Qatar', 'Hong Kong', 'United States, Germany, United Kingdom', 'United States, Germany, United Kingdom, Italy', 'France', 'United States', 'India', 'United Kingdom, India', 'United States', 'Mexico, Spain', 'Canada', 'United States', 'Canada', 'United States', 'United States, New Zealand, United Kingdom', 'Argentina', 'South Korea', 'United States', 'United States', 'Finland, United States', 'United States', 'Egypt', 'Spain, France, Uruguay', 'Canada, United States', 'United States, Canada', 'France, Canada, United States', 'United Kingdom, United States', 'United States', 'United Kingdom', 'United States', 'Hong Kong', 'United States', 'United States', 'United States', 'United States', 'Canada, United States', 'United States', 'United States', 'United States', 'France', 'United States', 'United States', 'United States, Canada, China', 'United Kingdom, United States', 'United States', 'United States', 'Ireland, Canada, Luxembourg, United States, United Kingdom, Philippines, India', 'United States', 'Nigeria', 'United States, Czech Republic, United Kingdom', 'United States', 'Unknown', 'Hong Kong', 'United States, China', 'United States', 'Israel, Germany', 'Canada', 'United States', 'United States', 'United States', 'Egypt', 'Nigeria', 'United States', 'Egypt', 'Spain, Mexico', 'Mexico, France', 'United Kingdom, United States', 'United States', 'United States', 'United States', 'United States', 'Canada', 'Israel, Germany, Poland, Luxembourg, Belgium, France, United States', 'Egypt', 'United States', 'United States', 'United States', 'Poland', 'United Kingdom, Japan, United States', 'United Kingdom, United States', 'India', 'Indonesia', 'United States, United Kingdom', 'India', 'United Kingdom', 'Australia', 'Austria, United States', 'United States, Hong Kong', 'Argentina, Chile', 'United States', 'Italy, United States', 'United States', 'United States', 'United States', 'Indonesia', 'United States, Hong Kong', 'United States', 'United States', 'United States', 'United Kingdom, Lithuania', 'United States', 'United States', 'United States', 'United Kingdom, United States', 'United States', 'United Kingdom', 'United States', 'United States', 'Nigeria', 'United States', 'United States, Greece, United Kingdom', 'Brazil', 'United States', 'Hong Kong', 'United States', 'United States', 'Hong Kong', 'United States, China', 'United States', 'United Kingdom, China, United States, India', 'United Kingdom', 'United States, Greece', 'New Zealand', 'United States', 'Indonesia', 'United States', 'United States', 'United States, Sweden, Norway', 'Israel', 'United States', 'United States', 'United States', 'United Kingdom, United States, Morocco', 'United States, United Kingdom, Morocco', 'Unknown', 'Unknown', 'South Korea', 'India', 'United States, Australia', 'United States', 'United States', 'United States', 'Spain, Canada, United States', 'Canada', 'United States', 'Canada', 'Spain', 'United States', 'United States', 'Thailand', 'United States', 'India', 'Canada', 'United States, India, United Arab Emirates', 'United Kingdom, United States', 'United States', 'United Kingdom, Canada, France, United States', 'Mexico', 'Denmark', 'United States', 'United States', 'United States', 'United Kingdom', 'United Kingdom', 'United States', 'United States', 'United Kingdom, France', 'France', 'United States', 'Indonesia', 'United States', 'United Kingdom, United States, Australia', 'United States', 'United States', 'Belgium, Ireland, Netherlands, Germany, Afghanistan', 'Australia', 'France, United States', 'United States', 'Brazil', 'United Kingdom', 'United States', 'United States', 'United States', 'India', 'Canada, United States', 'United States', 'France, Canada, Italy, United States, China', 'Germany', 'Ireland, United Kingdom, Greece, France, Netherlands', 'Ireland', 'United States', 'United States', 'United States', 'Denmark, Indonesia, Finland, Norway, United Kingdom, Israel, France, United States, Germany, Netherlands', 'New Zealand, United States', 'New Zealand, United States', 'United Kingdom, Germany, United States', 'United Kingdom', 'Poland', 'Hong Kong', 'United States, Australia, South Africa, United Kingdom', 'United States', 'United States, Germany, Mexico', 'United States', 'United States', 'United States', 'United States', 'South Korea', 'United States', 'United States, United Kingdom', 'Denmark', 'United States, Canada', 'New Zealand', 'United States', 'Italy', 'Unknown', 'United States', 'United States', 'United States', 'Canada', 'Germany', 'United States', 'United States', 'Philippines', 'United States', 'United Kingdom', 'United Kingdom', 'United States', 'United States', 'Unknown', 'United States', 'United Kingdom, United States', 'Germany', 'United States, Czech Republic', 'United States', 'Somalia, Kenya, Sudan, South Africa, United States', 'United Kingdom, United States', 'United States', 'India', 'Egypt', 'United States', 'Canada, United States', 'South Korea', 'United States, United Kingdom', 'United States, Czech Republic', 'United States', 'South Korea', 'United States', 'United States', 'United States', 'Indonesia', 'United States, Germany', 'India', 'United States, Canada, Japan, Panama', 'United States', 'United States', 'New Zealand', 'Unknown', 'United Kingdom, Spain, Belgium', 'Serbia, South Korea, Slovenia', 'Egypt', 'United States', 'United Kingdom', 'United States', 'United States', 'United Kingdom', 'United States', 'Australia, United States', 'United States, United Kingdom', 'United States', 'Denmark, United Kingdom, South Africa, Sweden, Belgium', 'Australia', 'Germany, Canada, United States', 'United States', 'United States', 'United States, France, Japan', 'United States', 'India', 'United States', 'Italy', 'United States', 'Mexico', 'Indonesia', 'United States', 'United States', 'United States', 'Poland', 'United States', 'United Kingdom', 'United States', 'United States', 'United Kingdom', 'United States', 'United States', 'United States, United Kingdom', 'United States', 'United States', 'Egypt', 'United States', 'United Kingdom', 'United States, United Arab Emirates', 'United States', 'United States', 'United States', 'United Kingdom', 'United States', 'United Kingdom', 'United States', 'United States', 'Thailand', 'Belgium, France', 'United States', 'United States', 'Egypt', 'Australia, United States', 'New Zealand, United Kingdom, Australia', 'United States', 'Philippines', 'Nigeria', 'United Kingdom, Canada, United States', 'United States', 'United Kingdom', 'Israel', 'France', 'United Kingdom, United States', 'United Kingdom', 'Canada', 'Ireland', 'Hong Kong', 'Canada', 'India', 'United States', 'United States', 'China', 'Belgium', 'India, United States', 'Thailand', 'United States', 'United States, Canada', 'United Kingdom', 'United Kingdom, Australia, Canada, United States', 'Hong Kong, China', 'Unknown', 'United States', 'United States', 'China', 'India', 'India', 'United States', 'United States', 'United States, Venezuela', 'United States', 'United Kingdom, Canada, Japan', 'Unknown', 'United Kingdom, United States', 'India', 'United States', 'United States', 'United States', 'India', 'Thailand', 'South Korea', 'United Kingdom', 'United States', 'United Kingdom, China, United States', 'United Kingdom, Brazil, Germany', 'United States', 'United Kingdom', 'Canada', 'United States', 'Unknown', 'United States', 'United States', 'South Africa, United States', 'United States, South Africa', 'United Kingdom', 'India', 'India', 'India', 'United States', 'United Kingdom, Namibia, South Africa, Zimbabwe, United States', 'United States', 'United States', 'United States', 'United States', 'Canada, United States, India, United Kingdom', 'India', 'United States, United Kingdom', 'United States', 'United States', 'Japan, United States', 'United States', 'India', 'United Kingdom', 'Canada', 'Australia', 'United States, France', 'India', 'United Kingdom, Canada, United States', 'United States', 'United States', 'United States', 'Switzerland, United Kingdom, United States', 'Canada', 'United States', 'United Kingdom, Germany', 'Canada, India', 'Egypt', 'United States', 'India', 'Egypt', 'United States', 'United States, United Kingdom, Germany', 'United States', 'India', 'India', 'United States', 'United Kingdom, India, Sweden', 'United States', 'United Kingdom, Belgium', 'United States', 'United States', 'India', 'India', 'Turkey', 'India', 'United Kingdom', 'Pakistan', 'India', 'India', 'United States', 'United States', 'United Kingdom', 'United States', 'United States, Canada', 'India', 'United States, India', 'United Kingdom', 'Egypt', 'Mexico', 'United States', 'United States, Brazil, India, Uganda, China', 'United Kingdom, France, United States', 'United States', 'Spain', 'United States', 'United States', 'United States, Argentina', 'Poland', 'Hong Kong', 'India', 'United States', 'United States, France', 'United States', 'Poland', 'Unknown', 'China', 'United States', 'United Kingdom', 'United States', 'Indonesia', 'United Kingdom, India, United States', 'Peru, United States, United Kingdom', 'Germany, United States, United Kingdom, Canada', 'United States', 'United States', 'United Kingdom', 'United Kingdom', 'United States', 'United States', 'United Kingdom', 'Canada, India, Thailand, United States, United Arab Emirates', 'United States', 'United States', 'United States', 'United Kingdom', 'United States, East Germany, West Germany', 'France, Netherlands, South Africa, Finland', 'Australia', 'United States', 'United States', 'United States', 'Canada', 'United States', 'United States', 'United States', 'Unknown', 'United States', 'Pakistan', 'India', 'United States', 'United States', 'Canada, United States', 'United States', 'United States', 'Mexico', 'India', 'India', 'India', 'India', 'India', 'Egypt, Austria, United States', 'France, Belgium', 'Thailand', 'Thailand', 'Thailand', 'Japan, United States', 'United States', 'Russia, Spain', 'United Kingdom', 'United States', 'Croatia, Slovenia, Serbia, Montenegro', 'Philippines', 'United States', 'United States', 'Hong Kong', 'United States', 'Egypt, France', 'India', 'India', 'United Arab Emirates, Jordan', 'United States', 'United States', 'United States', 'India']\n"
          ]
        },
        {
          "output_type": "stream",
          "name": "stderr",
          "text": [
            "/usr/local/lib/python3.7/dist-packages/ipykernel_launcher.py:2: SettingWithCopyWarning: \n",
            "A value is trying to be set on a copy of a slice from a DataFrame.\n",
            "Try using .loc[row_indexer,col_indexer] = value instead\n",
            "\n",
            "See the caveats in the documentation: https://pandas.pydata.org/pandas-docs/stable/user_guide/indexing.html#returning-a-view-versus-a-copy\n",
            "  \n"
          ]
        }
      ]
    },
    {
      "cell_type": "code",
      "source": [
        "for i in cou:\n",
        "    i = list(i.split(','))\n",
        "    if len(i) == 1:\n",
        "        if i in list(countries.keys()):\n",
        "            countries[i] += 1\n",
        "        else:\n",
        "            countries[i[0]] = 1\n",
        "    else:\n",
        "        for j in i:\n",
        "            if j in list(countries.keys()):\n",
        "                countries[j] += 1\n",
        "            else:\n",
        "                countries[j] = 1\n"
      ],
      "metadata": {
        "id": "UCdBNbhrcnTT"
      },
      "execution_count": null,
      "outputs": []
    },
    {
      "cell_type": "code",
      "source": [
        "# print(countries)"
      ],
      "metadata": {
        "colab": {
          "base_uri": "https://localhost:8080/"
        },
        "id": "S0zxxOYcdtGO",
        "outputId": "a9dee3c8-14da-4d02-fb48-d80a2892b917"
      },
      "execution_count": null,
      "outputs": [
        {
          "output_type": "stream",
          "name": "stdout",
          "text": [
            "{'United States': 1, 'Unknown': 1, ' Ghana': 1, ' Burkina Faso': 1, ' United Kingdom': 152, ' Germany': 104, ' Ethiopia': 1, 'Germany': 3, ' Czech Republic': 11, 'India': 1, ' India': 35, ' France': 155, 'China': 1, ' Canada': 132, ' United States': 388, 'South Africa': 7, ' Japan': 34, 'Japan': 3, 'Nigeria': 1, 'Spain': 1, 'France': 3, 'United Kingdom': 1, ' Australia': 33, ' Mexico': 25, ' Italy': 27, ' Romania': 4, 'Australia': 1, 'Argentina': 2, ' Venezuela': 2, ' Hong Kong': 24, 'Canada': 2, 'Hong Kong': 1, ' China': 55, 'Italy': 1, ' Nepal': 2, 'New Zealand': 2, ' Brazil': 10, ' Greece': 8, 'Colombia': 1, 'Mexico': 1, 'Belgium': 1, 'Switzerland': 5, 'Brazil': 1, ' Spain': 42, ' Nigeria': 7, 'Bulgaria': 4, '': 6, ' Algeria': 3, 'Poland': 1, ' Israel': 7, 'Saudi Arabia': 1, 'Thailand': 1, 'Indonesia': 1, 'Egypt': 3, ' Denmark': 15, ' Switzerland': 11, 'Kuwait': 1, ' Netherlands': 19, ' Singapore': 8, 'Malaysia': 1, 'South Korea': 1, 'Vietnam': 1, ' Belgium': 69, ' Hungary': 5, ' New Zealand': 10, 'Lebanon': 2, 'Romania': 1, ' Syria': 1, 'Philippines': 1, ' United Arab Emirates': 16, 'United Arab Emirates': 3, ' Colombia': 5, 'Netherlands': 3, 'Sweden': 4, ' Bulgaria': 5, 'Syria': 1, ' Lebanon': 6, ' Qatar': 10, 'Mauritius': 1, ' South Africa': 16, 'Austria': 2, 'Turkey': 1, ' Russia': 6, 'Czech Republic': 5, ' Taiwan': 4, 'Cameroon': 1, ' Palestine': 1, ' Saudi Arabia': 2, ' Poland': 10, 'Ireland': 1, 'Russia': 3, 'Taiwan': 2, 'Kenya': 2, ' Argentina': 15, ' Chile': 6, ' Thailand': 5, 'Chile': 1, 'Uruguay': 2, ' Cambodia': 4, 'Bangladesh': 1, 'Portugal': 4, ' Ireland': 10, 'Hungary': 1, ' South Korea': 14, ' Cayman Islands': 2, 'Norway': 2, ' Iceland': 5, 'Singapore': 4, 'Iceland': 1, ' Serbia': 4, ' Malta': 2, ' Luxembourg': 10, ' Norway': 9, 'Serbia': 3, 'Namibia': 1, ' Kenya': 2, ' Angola': 1, ' Philippines': 3, 'Peru': 2, 'Mozambique': 1, 'Ghana': 2, ' Egypt': 4, ' Jordan': 7, 'Zimbabwe': 1, ' Turkey': 2, 'Pakistan': 1, ' Uruguay': 5, 'Israel': 1, ' Guatemala': 1, ' Senegal': 2, 'Finland': 3, ' Malaysia': 2, 'Denmark': 2, ' Portugal': 2, ' Sweden': 20, ' Peru': 4, ' Finland': 4, ' Iraq': 2, ' Malawi': 1, 'Paraguay': 1, ' Pakistan': 2, ' Iran': 3, ' Austria': 3, ' Albania': 1, 'Cambodia': 2, ' Indonesia': 3, 'Georgia': 2, 'Soviet Union': 1, ' Soviet Union': 2, 'Greece': 1, ' Morocco': 6, ' Slovakia': 1, 'West Germany': 1, ' Ukraine': 1, ' Bermuda': 1, ' Ecuador': 1, 'Iran': 1, ' Armenia': 1, ' Mongolia': 1, ' Bahamas': 1, ' Sri Lanka': 1, ' Bangladesh': 1, ' Zimbabwe': 2, ' Latvia': 1, ' Liechtenstein': 1, 'Venezuela': 2, ' Nicaragua': 1, ' Croatia': 2, 'Slovenia': 1, ' Dominican Republic': 1, ' Samoa': 1, ' West Germany': 2, ' Botswana': 1, ' Vatican City': 1, 'Guatemala': 1, 'Jamaica': 1, ' Kazakhstan': 1, ' Lithuania': 1, ' Afghanistan': 1, 'Somalia': 1, ' Sudan': 1, ' Panama': 1, ' Slovenia': 2, ' Namibia': 1, ' Uganda': 1, ' East Germany': 1, 'Croatia': 1, ' Montenegro': 1}\n"
          ]
        }
      ]
    },
    {
      "cell_type": "code",
      "source": [
        "countries_fin = {}\n",
        "for country, no in countries.items():\n",
        "    country = country.replace(' ', '')\n",
        "    if country in list(countries_fin.keys()):\n",
        "        countries_fin[country] += no\n",
        "    else:\n",
        "        countries_fin[country]= no\n",
        "\n",
        "countries_fin = {k: v for k, v in sorted(countries_fin.items(), key = lambda item: item[1], reverse=True)}"
      ],
      "metadata": {
        "id": "c_CSSn-6dO4b"
      },
      "execution_count": null,
      "outputs": []
    },
    {
      "cell_type": "code",
      "source": [
        "print(countries_fin)"
      ],
      "metadata": {
        "colab": {
          "base_uri": "https://localhost:8080/"
        },
        "id": "IffIaEcOdoxf",
        "outputId": "cbbb9bec-6c3d-4a0a-9944-53b69f57fddf"
      },
      "execution_count": null,
      "outputs": [
        {
          "output_type": "stream",
          "name": "stdout",
          "text": [
            "{'UnitedStates': 389, 'France': 158, 'UnitedKingdom': 153, 'Canada': 134, 'Germany': 107, 'Belgium': 70, 'China': 56, 'Spain': 43, 'Japan': 37, 'India': 36, 'Australia': 34, 'Italy': 28, 'Mexico': 26, 'HongKong': 25, 'Sweden': 24, 'SouthAfrica': 23, 'Netherlands': 22, 'UnitedArabEmirates': 19, 'Argentina': 17, 'Denmark': 17, 'CzechRepublic': 16, 'Switzerland': 16, 'SouthKorea': 15, 'NewZealand': 12, 'Singapore': 12, 'Brazil': 11, 'Poland': 11, 'Ireland': 11, 'Norway': 11, 'Qatar': 10, 'Luxembourg': 10, 'Greece': 9, 'Bulgaria': 9, 'Russia': 9, 'Nigeria': 8, 'Israel': 8, 'Lebanon': 8, 'Egypt': 7, 'Chile': 7, 'Uruguay': 7, 'Serbia': 7, 'Jordan': 7, 'Finland': 7, 'Colombia': 6, '': 6, 'Thailand': 6, 'Hungary': 6, 'Taiwan': 6, 'Cambodia': 6, 'Portugal': 6, 'Iceland': 6, 'Peru': 6, 'Morocco': 6, 'Romania': 5, 'Austria': 5, 'Venezuela': 4, 'Indonesia': 4, 'Philippines': 4, 'Kenya': 4, 'Iran': 4, 'Ghana': 3, 'Algeria': 3, 'SaudiArabia': 3, 'Malaysia': 3, 'Turkey': 3, 'Zimbabwe': 3, 'Pakistan': 3, 'SovietUnion': 3, 'WestGermany': 3, 'Croatia': 3, 'Slovenia': 3, 'Nepal': 2, 'Syria': 2, 'Bangladesh': 2, 'CaymanIslands': 2, 'Malta': 2, 'Namibia': 2, 'Guatemala': 2, 'Senegal': 2, 'Iraq': 2, 'Georgia': 2, 'Unknown': 1, 'BurkinaFaso': 1, 'Ethiopia': 1, 'Kuwait': 1, 'Vietnam': 1, 'Mauritius': 1, 'Cameroon': 1, 'Palestine': 1, 'Angola': 1, 'Mozambique': 1, 'Malawi': 1, 'Paraguay': 1, 'Albania': 1, 'Slovakia': 1, 'Ukraine': 1, 'Bermuda': 1, 'Ecuador': 1, 'Armenia': 1, 'Mongolia': 1, 'Bahamas': 1, 'SriLanka': 1, 'Latvia': 1, 'Liechtenstein': 1, 'Nicaragua': 1, 'DominicanRepublic': 1, 'Samoa': 1, 'Botswana': 1, 'VaticanCity': 1, 'Jamaica': 1, 'Kazakhstan': 1, 'Lithuania': 1, 'Afghanistan': 1, 'Somalia': 1, 'Sudan': 1, 'Panama': 1, 'Uganda': 1, 'EastGermany': 1, 'Montenegro': 1}\n"
          ]
        }
      ]
    },
    {
      "cell_type": "code",
      "source": [
        "plt.figure(figsize=(8,8))\n",
        "ax = sns.barplot(x = list(countries_fin.keys())[0:10], y = list(countries_fin.values())[0:10], palette='Set2')\n",
        "ax.set_xticklabels(list(countries_fin.keys())[0:10], rotation = 90)"
      ],
      "metadata": {
        "colab": {
          "base_uri": "https://localhost:8080/",
          "height": 745
        },
        "id": "PgE8c6EVd1YX",
        "outputId": "ba39751d-8438-424e-9999-f22b6dd41827"
      },
      "execution_count": null,
      "outputs": [
        {
          "output_type": "execute_result",
          "data": {
            "text/plain": [
              "[Text(0, 0, 'UnitedStates'),\n",
              " Text(0, 0, 'France'),\n",
              " Text(0, 0, 'UnitedKingdom'),\n",
              " Text(0, 0, 'Canada'),\n",
              " Text(0, 0, 'Germany'),\n",
              " Text(0, 0, 'Belgium'),\n",
              " Text(0, 0, 'China'),\n",
              " Text(0, 0, 'Spain'),\n",
              " Text(0, 0, 'Japan'),\n",
              " Text(0, 0, 'India')]"
            ]
          },
          "metadata": {},
          "execution_count": 77
        },
        {
          "output_type": "display_data",
          "data": {
            "text/plain": [
              "<Figure size 576x576 with 1 Axes>"
            ],
            "image/png": "[encoded data removed]"
          },
          "metadata": {}
        }
      ]
    }
  ]
}