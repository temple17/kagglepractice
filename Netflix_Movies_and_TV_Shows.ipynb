{
  "nbformat": 4,
  "nbformat_minor": 0,
  "metadata": {
    "colab": {
      "provenance": [],
      "collapsed_sections": [],
      "mount_file_id": "1FaiuVRR9yoKT0laWnxaxvGO47fpSjfy1",
      "authorship_tag": "ABX9TyMo8X0fwIM5kEthoS98VtlM",
      "include_colab_link": true
    },
    "kernelspec": {
      "name": "python3",
      "display_name": "Python 3"
    },
    "language_info": {
      "name": "python"
    },
    "gpuClass": "standard"
  },
  "cells": [
    {
      "cell_type": "markdown",
      "metadata": {
        "id": "view-in-github",
        "colab_type": "text"
      },
      "source": [
        "<a href=\"https://colab.research.google.com/github/temple17/kagglepractice/blob/main/Netflix_Movies_and_TV_Shows.ipynb\" target=\"_parent\"><img src=\"https://colab.research.google.com/assets/colab-badge.svg\" alt=\"Open In Colab\"/></a>"
      ]
    },
    {
      "cell_type": "markdown",
      "source": [
        "# Import"
      ],
      "metadata": {
        "id": "h31O9KN6N8Tm"
      }
    },
    {
      "cell_type": "code",
      "source": [
        "# !pip install matplotlib --upgrade"
      ],
      "metadata": {
        "id": "275opICTQjrX"
      },
      "execution_count": 1,
      "outputs": []
    },
    {
      "cell_type": "code",
      "source": [
        "import pandas as pd\n",
        "import numpy as np\n",
        "import matplotlib.pyplot as plt\n",
        "import seaborn as sns\n",
        "%matplotlib inline"
      ],
      "metadata": {
        "id": "8HI_PmCcOeB8"
      },
      "execution_count": 2,
      "outputs": []
    },
    {
      "cell_type": "markdown",
      "source": [
        "# Load the data"
      ],
      "metadata": {
        "id": "vc_BK7uYQzBP"
      }
    },
    {
      "cell_type": "code",
      "source": [
        "df = pd.read_csv('/content/drive/MyDrive/kaggle/Netflix Movies and TV Shows/dataset/netflix_titles.csv')"
      ],
      "metadata": {
        "id": "zsuenDeuQ1uZ"
      },
      "execution_count": 3,
      "outputs": []
    },
    {
      "cell_type": "markdown",
      "source": [
        "# Quick overview"
      ],
      "metadata": {
        "id": "d_8itOf4RAAs"
      }
    },
    {
      "cell_type": "code",
      "source": [
        "df.head()"
      ],
      "metadata": {
        "colab": {
          "base_uri": "https://localhost:8080/",
          "height": 441
        },
        "id": "ex-wBelHQ9GT",
        "outputId": "f0feb386-6eb0-47e6-8c09-a48a902a4da9"
      },
      "execution_count": 4,
      "outputs": [
        {
          "output_type": "execute_result",
          "data": {
            "text/plain": [
              "  show_id     type                  title         director  \\\n",
              "0      s1    Movie   Dick Johnson Is Dead  Kirsten Johnson   \n",
              "1      s2  TV Show          Blood & Water              NaN   \n",
              "2      s3  TV Show              Ganglands  Julien Leclercq   \n",
              "3      s4  TV Show  Jailbirds New Orleans              NaN   \n",
              "4      s5  TV Show           Kota Factory              NaN   \n",
              "\n",
              "                                                cast        country  \\\n",
              "0                                                NaN  United States   \n",
              "1  Ama Qamata, Khosi Ngema, Gail Mabalane, Thaban...   South Africa   \n",
              "2  Sami Bouajila, Tracy Gotoas, Samuel Jouy, Nabi...            NaN   \n",
              "3                                                NaN            NaN   \n",
              "4  Mayur More, Jitendra Kumar, Ranjan Raj, Alam K...          India   \n",
              "\n",
              "           date_added  release_year rating   duration  \\\n",
              "0  September 25, 2021          2020  PG-13     90 min   \n",
              "1  September 24, 2021          2021  TV-MA  2 Seasons   \n",
              "2  September 24, 2021          2021  TV-MA   1 Season   \n",
              "3  September 24, 2021          2021  TV-MA   1 Season   \n",
              "4  September 24, 2021          2021  TV-MA  2 Seasons   \n",
              "\n",
              "                                           listed_in  \\\n",
              "0                                      Documentaries   \n",
              "1    International TV Shows, TV Dramas, TV Mysteries   \n",
              "2  Crime TV Shows, International TV Shows, TV Act...   \n",
              "3                             Docuseries, Reality TV   \n",
              "4  International TV Shows, Romantic TV Shows, TV ...   \n",
              "\n",
              "                                         description  \n",
              "0  As her father nears the end of his life, filmm...  \n",
              "1  After crossing paths at a party, a Cape Town t...  \n",
              "2  To protect his family from a powerful drug lor...  \n",
              "3  Feuds, flirtations and toilet talk go down amo...  \n",
              "4  In a city of coaching centers known to train I...  "
            ],
            "text/html": [
              "\n",
              "  <div id=\"df-810b1a02-9c71-4a97-9f13-ac300cb19695\">\n",
              "    <div class=\"colab-df-container\">\n",
              "      <div>\n",
              "<style scoped>\n",
              "    .dataframe tbody tr th:only-of-type {\n",
              "        vertical-align: middle;\n",
              "    }\n",
              "\n",
              "    .dataframe tbody tr th {\n",
              "        vertical-align: top;\n",
              "    }\n",
              "\n",
              "    .dataframe thead th {\n",
              "        text-align: right;\n",
              "    }\n",
              "</style>\n",
              "<table border=\"1\" class=\"dataframe\">\n",
              "  <thead>\n",
              "    <tr style=\"text-align: right;\">\n",
              "      <th></th>\n",
              "      <th>show_id</th>\n",
              "      <th>type</th>\n",
              "      <th>title</th>\n",
              "      <th>director</th>\n",
              "      <th>cast</th>\n",
              "      <th>country</th>\n",
              "      <th>date_added</th>\n",
              "      <th>release_year</th>\n",
              "      <th>rating</th>\n",
              "      <th>duration</th>\n",
              "      <th>listed_in</th>\n",
              "      <th>description</th>\n",
              "    </tr>\n",
              "  </thead>\n",
              "  <tbody>\n",
              "    <tr>\n",
              "      <th>0</th>\n",
              "      <td>s1</td>\n",
              "      <td>Movie</td>\n",
              "      <td>Dick Johnson Is Dead</td>\n",
              "      <td>Kirsten Johnson</td>\n",
              "      <td>NaN</td>\n",
              "      <td>United States</td>\n",
              "      <td>September 25, 2021</td>\n",
              "      <td>2020</td>\n",
              "      <td>PG-13</td>\n",
              "      <td>90 min</td>\n",
              "      <td>Documentaries</td>\n",
              "      <td>As her father nears the end of his life, filmm...</td>\n",
              "    </tr>\n",
              "    <tr>\n",
              "      <th>1</th>\n",
              "      <td>s2</td>\n",
              "      <td>TV Show</td>\n",
              "      <td>Blood &amp; Water</td>\n",
              "      <td>NaN</td>\n",
              "      <td>Ama Qamata, Khosi Ngema, Gail Mabalane, Thaban...</td>\n",
              "      <td>South Africa</td>\n",
              "      <td>September 24, 2021</td>\n",
              "      <td>2021</td>\n",
              "      <td>TV-MA</td>\n",
              "      <td>2 Seasons</td>\n",
              "      <td>International TV Shows, TV Dramas, TV Mysteries</td>\n",
              "      <td>After crossing paths at a party, a Cape Town t...</td>\n",
              "    </tr>\n",
              "    <tr>\n",
              "      <th>2</th>\n",
              "      <td>s3</td>\n",
              "      <td>TV Show</td>\n",
              "      <td>Ganglands</td>\n",
              "      <td>Julien Leclercq</td>\n",
              "      <td>Sami Bouajila, Tracy Gotoas, Samuel Jouy, Nabi...</td>\n",
              "      <td>NaN</td>\n",
              "      <td>September 24, 2021</td>\n",
              "      <td>2021</td>\n",
              "      <td>TV-MA</td>\n",
              "      <td>1 Season</td>\n",
              "      <td>Crime TV Shows, International TV Shows, TV Act...</td>\n",
              "      <td>To protect his family from a powerful drug lor...</td>\n",
              "    </tr>\n",
              "    <tr>\n",
              "      <th>3</th>\n",
              "      <td>s4</td>\n",
              "      <td>TV Show</td>\n",
              "      <td>Jailbirds New Orleans</td>\n",
              "      <td>NaN</td>\n",
              "      <td>NaN</td>\n",
              "      <td>NaN</td>\n",
              "      <td>September 24, 2021</td>\n",
              "      <td>2021</td>\n",
              "      <td>TV-MA</td>\n",
              "      <td>1 Season</td>\n",
              "      <td>Docuseries, Reality TV</td>\n",
              "      <td>Feuds, flirtations and toilet talk go down amo...</td>\n",
              "    </tr>\n",
              "    <tr>\n",
              "      <th>4</th>\n",
              "      <td>s5</td>\n",
              "      <td>TV Show</td>\n",
              "      <td>Kota Factory</td>\n",
              "      <td>NaN</td>\n",
              "      <td>Mayur More, Jitendra Kumar, Ranjan Raj, Alam K...</td>\n",
              "      <td>India</td>\n",
              "      <td>September 24, 2021</td>\n",
              "      <td>2021</td>\n",
              "      <td>TV-MA</td>\n",
              "      <td>2 Seasons</td>\n",
              "      <td>International TV Shows, Romantic TV Shows, TV ...</td>\n",
              "      <td>In a city of coaching centers known to train I...</td>\n",
              "    </tr>\n",
              "  </tbody>\n",
              "</table>\n",
              "</div>\n",
              "      <button class=\"colab-df-convert\" onclick=\"convertToInteractive('df-810b1a02-9c71-4a97-9f13-ac300cb19695')\"\n",
              "              title=\"Convert this dataframe to an interactive table.\"\n",
              "              style=\"display:none;\">\n",
              "        \n",
              "  <svg xmlns=\"http://www.w3.org/2000/svg\" height=\"24px\"viewBox=\"0 0 24 24\"\n",
              "       width=\"24px\">\n",
              "    <path d=\"M0 0h24v24H0V0z\" fill=\"none\"/>\n",
              "    <path d=\"M18.56 5.44l.94 2.06.94-2.06 2.06-.94-2.06-.94-.94-2.06-.94 2.06-2.06.94zm-11 1L8.5 8.5l.94-2.06 2.06-.94-2.06-.94L8.5 2.5l-.94 2.06-2.06.94zm10 10l.94 2.06.94-2.06 2.06-.94-2.06-.94-.94-2.06-.94 2.06-2.06.94z\"/><path d=\"M17.41 7.96l-1.37-1.37c-.4-.4-.92-.59-1.43-.59-.52 0-1.04.2-1.43.59L10.3 9.45l-7.72 7.72c-.78.78-.78 2.05 0 2.83L4 21.41c.39.39.9.59 1.41.59.51 0 1.02-.2 1.41-.59l7.78-7.78 2.81-2.81c.8-.78.8-2.07 0-2.86zM5.41 20L4 18.59l7.72-7.72 1.47 1.35L5.41 20z\"/>\n",
              "  </svg>\n",
              "      </button>\n",
              "      \n",
              "  <style>\n",
              "    .colab-df-container {\n",
              "      display:flex;\n",
              "      flex-wrap:wrap;\n",
              "      gap: 12px;\n",
              "    }\n",
              "\n",
              "    .colab-df-convert {\n",
              "      background-color: #E8F0FE;\n",
              "      border: none;\n",
              "      border-radius: 50%;\n",
              "      cursor: pointer;\n",
              "      display: none;\n",
              "      fill: #1967D2;\n",
              "      height: 32px;\n",
              "      padding: 0 0 0 0;\n",
              "      width: 32px;\n",
              "    }\n",
              "\n",
              "    .colab-df-convert:hover {\n",
              "      background-color: #E2EBFA;\n",
              "      box-shadow: 0px 1px 2px rgba(60, 64, 67, 0.3), 0px 1px 3px 1px rgba(60, 64, 67, 0.15);\n",
              "      fill: #174EA6;\n",
              "    }\n",
              "\n",
              "    [theme=dark] .colab-df-convert {\n",
              "      background-color: #3B4455;\n",
              "      fill: #D2E3FC;\n",
              "    }\n",
              "\n",
              "    [theme=dark] .colab-df-convert:hover {\n",
              "      background-color: #434B5C;\n",
              "      box-shadow: 0px 1px 3px 1px rgba(0, 0, 0, 0.15);\n",
              "      filter: drop-shadow(0px 1px 2px rgba(0, 0, 0, 0.3));\n",
              "      fill: #FFFFFF;\n",
              "    }\n",
              "  </style>\n",
              "\n",
              "      <script>\n",
              "        const buttonEl =\n",
              "          document.querySelector('#df-810b1a02-9c71-4a97-9f13-ac300cb19695 button.colab-df-convert');\n",
              "        buttonEl.style.display =\n",
              "          google.colab.kernel.accessAllowed ? 'block' : 'none';\n",
              "\n",
              "        async function convertToInteractive(key) {\n",
              "          const element = document.querySelector('#df-810b1a02-9c71-4a97-9f13-ac300cb19695');\n",
              "          const dataTable =\n",
              "            await google.colab.kernel.invokeFunction('convertToInteractive',\n",
              "                                                     [key], {});\n",
              "          if (!dataTable) return;\n",
              "\n",
              "          const docLinkHtml = 'Like what you see? Visit the ' +\n",
              "            '<a target=\"_blank\" href=https://colab.research.google.com/notebooks/data_table.ipynb>data table notebook</a>'\n",
              "            + ' to learn more about interactive tables.';\n",
              "          element.innerHTML = '';\n",
              "          dataTable['output_type'] = 'display_data';\n",
              "          await google.colab.output.renderOutput(dataTable, element);\n",
              "          const docLink = document.createElement('div');\n",
              "          docLink.innerHTML = docLinkHtml;\n",
              "          element.appendChild(docLink);\n",
              "        }\n",
              "      </script>\n",
              "    </div>\n",
              "  </div>\n",
              "  "
            ]
          },
          "metadata": {},
          "execution_count": 4
        }
      ]
    },
    {
      "cell_type": "code",
      "source": [
        "df.info()"
      ],
      "metadata": {
        "colab": {
          "base_uri": "https://localhost:8080/"
        },
        "id": "49cBJlAKQ-C7",
        "outputId": "c92d4ad5-1f38-45c2-9cef-514dedd25fb9"
      },
      "execution_count": 5,
      "outputs": [
        {
          "output_type": "stream",
          "name": "stdout",
          "text": [
            "<class 'pandas.core.frame.DataFrame'>\n",
            "RangeIndex: 8807 entries, 0 to 8806\n",
            "Data columns (total 12 columns):\n",
            " #   Column        Non-Null Count  Dtype \n",
            "---  ------        --------------  ----- \n",
            " 0   show_id       8807 non-null   object\n",
            " 1   type          8807 non-null   object\n",
            " 2   title         8807 non-null   object\n",
            " 3   director      6173 non-null   object\n",
            " 4   cast          7982 non-null   object\n",
            " 5   country       7976 non-null   object\n",
            " 6   date_added    8797 non-null   object\n",
            " 7   release_year  8807 non-null   int64 \n",
            " 8   rating        8803 non-null   object\n",
            " 9   duration      8804 non-null   object\n",
            " 10  listed_in     8807 non-null   object\n",
            " 11  description   8807 non-null   object\n",
            "dtypes: int64(1), object(11)\n",
            "memory usage: 825.8+ KB\n"
          ]
        }
      ]
    },
    {
      "cell_type": "markdown",
      "source": [
        "- There are some missing data in 'director', 'cast', 'country', 'date_added', 'rating', 'duration'"
      ],
      "metadata": {
        "id": "WFVBlcLcQ-72"
      }
    },
    {
      "cell_type": "code",
      "source": [
        "df.isnull().sum()"
      ],
      "metadata": {
        "colab": {
          "base_uri": "https://localhost:8080/"
        },
        "id": "CnQ6ty8TR_TE",
        "outputId": "6eec8bf1-5cc3-4b17-887c-105f7b6d9971"
      },
      "execution_count": 6,
      "outputs": [
        {
          "output_type": "execute_result",
          "data": {
            "text/plain": [
              "show_id            0\n",
              "type               0\n",
              "title              0\n",
              "director        2634\n",
              "cast             825\n",
              "country          831\n",
              "date_added        10\n",
              "release_year       0\n",
              "rating             4\n",
              "duration           3\n",
              "listed_in          0\n",
              "description        0\n",
              "dtype: int64"
            ]
          },
          "metadata": {},
          "execution_count": 6
        }
      ]
    },
    {
      "cell_type": "markdown",
      "source": [
        "# Interesting Task Ideas suggested in kaggle\n",
        "- Understanding what content is available in different countries\n",
        "- Identifying similar content by matching text-based features\n",
        "- Network analysis of Actors / Directors and find interesting insights\n",
        "- Does Netflix has more focus on TV Shows than movies in recent years."
      ],
      "metadata": {
        "id": "A5NxxyZJSBYS"
      }
    },
    {
      "cell_type": "markdown",
      "source": [
        "# Exploratory Data Analysis Steps\n",
        "\n",
        "## 1. Setting the goals about the dataset(keep updating)\n",
        "- top 10 countries on Netflix\n",
        "- global genre preference\n",
        "- release_year and duration\n",
        "\n",
        "\n",
        "## 2. Precise EDA\n",
        "### 2.1 univariate analysis\n",
        "### 2.2 bi-variate analysis\n",
        "### 2.3 missing value treatment\n",
        "### 2.4 outlier treatment\n",
        "#### 2.4.1 detect outlier\n",
        "#### 2.4.2 remove outlier\n",
        "\n",
        "## 3. Feature engineering\n",
        "### 3.1 variable transformation\n",
        "### 3.2 variable / feature selection\n",
        "### 3.3 variable creation\n",
        "\n"
      ],
      "metadata": {
        "id": "l7PSOuKxXO06"
      }
    },
    {
      "cell_type": "code",
      "source": [
        "plt.figure(figsize=(8,6))\n",
        "sns.set(style = 'darkgrid')\n",
        "ax = sns.countplot(x = 'type', palette='Set3', data = df)\n",
        "\n",
        "for p in ax.patches:\n",
        "    height = p.get_height()\n",
        "    ax.text(p.get_x() + p.get_width() / 2., height + 15, height, ha = 'center', size = 12)\n",
        "\n",
        "ax.set_ylim(0, 7000)\n",
        "plt.show()"
      ],
      "metadata": {
        "id": "6qDX5od8j8bf",
        "colab": {
          "base_uri": "https://localhost:8080/",
          "height": 398
        },
        "outputId": "f4aa9142-0897-4806-bc3c-2e7c7c4ea646"
      },
      "execution_count": 7,
      "outputs": [
        {
          "output_type": "display_data",
          "data": {
            "text/plain": [
              "<Figure size 576x432 with 1 Axes>"
            ],
            "image/png": "[encoded data removed]"
          },
          "metadata": {
            "needs_background": "light"
          }
        }
      ]
    },
    {
      "cell_type": "markdown",
      "source": [
        "According to the above countplot, there are 6131 movies and 2676 TV shows.   \n",
        "It means Movie count is 2.3 times as many as TV show's."
      ],
      "metadata": {
        "id": "mD8ZVRKXH15o"
      }
    },
    {
      "cell_type": "markdown",
      "source": [
        "# Most content creating countries"
      ],
      "metadata": {
        "id": "9Yei8ZNFUtdc"
      }
    },
    {
      "cell_type": "code",
      "source": [
        "netflix_movies = df[df['type'] == \"Movie\"]\n",
        "netflix_shows = df[df['type'] == \"TV Show\"]"
      ],
      "metadata": {
        "id": "QJj9YIWpW1d-"
      },
      "execution_count": 8,
      "outputs": []
    },
    {
      "cell_type": "code",
      "source": [
        "countries = {}\n",
        "netflix_movies['country'] = netflix_movies['country'].fillna('Unknown')\n",
        "cou = list(netflix_movies['country'])\n",
        "# print(cou)"
      ],
      "metadata": {
        "colab": {
          "base_uri": "https://localhost:8080/"
        },
        "id": "6iclQdxocYxs",
        "outputId": "3e65554d-75f8-41bf-bc1f-e8bd56c88c12"
      },
      "execution_count": 9,
      "outputs": [
        {
          "output_type": "stream",
          "name": "stderr",
          "text": [
            "/usr/local/lib/python3.7/dist-packages/ipykernel_launcher.py:2: SettingWithCopyWarning: \n",
            "A value is trying to be set on a copy of a slice from a DataFrame.\n",
            "Try using .loc[row_indexer,col_indexer] = value instead\n",
            "\n",
            "See the caveats in the documentation: https://pandas.pydata.org/pandas-docs/stable/user_guide/indexing.html#returning-a-view-versus-a-copy\n",
            "  \n"
          ]
        }
      ]
    },
    {
      "cell_type": "code",
      "source": [
        "for i in cou:\n",
        "    i = list(i.split(','))\n",
        "    if len(i) == 1:\n",
        "        if i in list(countries.keys()):\n",
        "            countries[i] += 1\n",
        "        else:\n",
        "            countries[i[0]] = 1\n",
        "    else:\n",
        "        for j in i:\n",
        "            if j in list(countries.keys()):\n",
        "                countries[j] += 1\n",
        "            else:\n",
        "                countries[j] = 1\n"
      ],
      "metadata": {
        "id": "UCdBNbhrcnTT"
      },
      "execution_count": 10,
      "outputs": []
    },
    {
      "cell_type": "code",
      "source": [
        "# print(countries)"
      ],
      "metadata": {
        "id": "S0zxxOYcdtGO"
      },
      "execution_count": 11,
      "outputs": []
    },
    {
      "cell_type": "code",
      "source": [
        "countries_fin = {}\n",
        "for country, no in countries.items():\n",
        "    country = country.replace(' ', '')\n",
        "    if country in list(countries_fin.keys()):\n",
        "        countries_fin[country] += no\n",
        "    else:\n",
        "        countries_fin[country]= no\n",
        "\n",
        "countries_fin = {k: v for k, v in sorted(countries_fin.items(), key = lambda item: item[1], reverse=True)}"
      ],
      "metadata": {
        "id": "c_CSSn-6dO4b"
      },
      "execution_count": 12,
      "outputs": []
    },
    {
      "cell_type": "code",
      "source": [
        "# print(countries_fin)"
      ],
      "metadata": {
        "id": "IffIaEcOdoxf"
      },
      "execution_count": 13,
      "outputs": []
    },
    {
      "cell_type": "code",
      "source": [
        "plt.figure(figsize=(8,8))\n",
        "ax = sns.barplot(x = list(countries_fin.keys())[0:10], y = list(countries_fin.values())[0:10], palette='Set2')\n",
        "ax.set_xticklabels(list(countries_fin.keys())[0:10], rotation = 90)"
      ],
      "metadata": {
        "colab": {
          "base_uri": "https://localhost:8080/",
          "height": 745
        },
        "id": "PgE8c6EVd1YX",
        "outputId": "1a08a38b-4ed7-4a44-aeb2-e2eac8a8e176"
      },
      "execution_count": 14,
      "outputs": [
        {
          "output_type": "execute_result",
          "data": {
            "text/plain": [
              "[Text(0, 0, 'UnitedStates'),\n",
              " Text(0, 0, 'France'),\n",
              " Text(0, 0, 'UnitedKingdom'),\n",
              " Text(0, 0, 'Canada'),\n",
              " Text(0, 0, 'Germany'),\n",
              " Text(0, 0, 'Belgium'),\n",
              " Text(0, 0, 'China'),\n",
              " Text(0, 0, 'Spain'),\n",
              " Text(0, 0, 'Japan'),\n",
              " Text(0, 0, 'India')]"
            ]
          },
          "metadata": {},
          "execution_count": 14
        },
        {
          "output_type": "display_data",
          "data": {
            "text/plain": [
              "<Figure size 576x576 with 1 Axes>"
            ],
            "image/png": "[encoded data removed]"
          },
          "metadata": {}
        }
      ]
    },
    {
      "cell_type": "markdown",
      "source": [
        "# Netflix through the years"
      ],
      "metadata": {
        "id": "9YhAB8QhtjkX"
      }
    },
    {
      "cell_type": "code",
      "source": [
        "# Timeline code from Subin An's awesome notebook\n",
        "# https://www.kaggle.com/subinium/awesome-visualization-with-titanic-dataset\n",
        "\n",
        "from datetime import datetime\n",
        "\n",
        "tl_dates = [\n",
        "    \"1997\\nDVD Rent Idea\",\n",
        "    \"1999\\nNetflix\\nsubscription\\ndebut\",\n",
        "    \"2002\\nIPO for 1$\",\n",
        "    \"2005\\nProfile\\nfeature\\nlaunched\",\n",
        "    \"2007\\nStreaming service\",\n",
        "    \"2009\\nOver\\n10 million\"\n",
        "]\n",
        "\n",
        "tl_x = [1.2, 3.2, 5.2, 7.2, 9.2, 12.2]\n",
        "\n",
        "tl_sub_x = [2.3, 4.3, 6.3, 8.3, 10.3, 14]\n",
        "\n",
        "tl_sub_times = [\n",
        "    \"1998\", \"2000\",\"2003\", \"2006\", \"2008\", \"2010\"\n",
        "]\n",
        "\n",
        "tl_text = [\"Netflix.com\\nlaunched\", \"Starts\\npersonal\\nrecommendation\",\"Over\\n1 million\",\"Over\\n5 million\",\"Partnership\\nwith electronics\",\n",
        "    \"Mobile\\ndevices\\navailable\"\n",
        "    ]\n",
        "\n",
        "fig, ax = plt.subplots(figsize=(12, 4), constrained_layout=True)\n",
        "ax.set_ylim(-2, 1.75)\n",
        "ax.set_xlim(0, 15)\n",
        "\n",
        "ax.axhline(0, xmin=0, c='#4a4a4a', zorder=1)\n",
        "\n",
        "ax.scatter(tl_x, np.zeros(len(tl_x)), s=120, c='#4a4a4a',zorder=2)\n",
        "ax.scatter(tl_x, np.zeros(len(tl_x)), s=30, c='#fafafa', zorder=3)\n",
        "\n",
        "ax.scatter(tl_sub_x, np.zeros(len(tl_sub_x)), s=50, c='#4a4a4a', zorder=4)\n",
        "\n",
        "for x, date in zip(tl_x, tl_dates):\n",
        "    ax.text(x, -0.4, date, ha='center', fontfamily='serif', fontweight='bold', va = 'center',\n",
        "            color='#4a4a4a',fontsize=10)\n",
        "    \n",
        "levels = np.zeros(len(tl_sub_x))\n",
        "levels[::2] = 0.3\n",
        "levels[1::2] = 0.6\n",
        "\n",
        "markerline, stemline, baseline = ax.stem(tl_sub_x, levels, use_line_collection=True)\n",
        "plt.setp(baseline, zorder=0)\n",
        "plt.setp(markerline, marker=',', color='#4a4a4a')\n",
        "plt.setp(stemline, color='#4a4a4a')\n",
        "\n",
        "for idx, x, time, txt in zip(range(1, len(tl_sub_x)+1), tl_sub_x, tl_sub_times, tl_text):\n",
        "    ax.text(x, 1.3*(idx%2)-0.6, time, ha='center',\n",
        "            fontfamily='serif', fontweight='bold',\n",
        "            color='#4a4a4a' if idx!=len(tl_sub_x) else '#b20710', fontsize=10)\n",
        "    \n",
        "    ax.text(x, 1.3*(idx%2)-0.7, txt, va='top', ha='center', fontweight='bold', fontsize=10,\n",
        "            fontfamily='serif', color='#4a4a4a' if idx!=len(tl_sub_x) else '#b20710')\n",
        "    \n",
        "for spine in ['left', 'top', 'right', 'bottom']:\n",
        "    ax.spines[spine].set_visible(False)\n",
        "\n",
        "ax.set_xticks([])\n",
        "ax.set_yticks([])\n",
        "ax.set_facecolor('none')\n",
        "\n",
        "ax.set_title('Netflix through the years', fontweight='bold', fontfamily='serif', fontsize=16, color='#4a4a4a')\n",
        "ax.text(2.4, 1.57, \"From DVD rentals to a global audience of over 150m people - is it time for Netflix to Chill?\", fontfamily='serif', \n",
        "        fontsize=12, color='#4a4a4a')\n",
        "\n",
        "plt.savefig('netflix_through_the_years.png', dpi=100)"
      ],
      "metadata": {
        "colab": {
          "base_uri": "https://localhost:8080/",
          "height": 313
        },
        "id": "Tf0IQXKStm-S",
        "outputId": "7e9713dd-358c-4740-8582-6bbff751895d"
      },
      "execution_count": 76,
      "outputs": [
        {
          "output_type": "display_data",
          "data": {
            "text/plain": [
              "<Figure size 864x288 with 1 Axes>"
            ],
            "image/png": "[encoded data removed]"
          },
          "metadata": {}
        }
      ]
    },
    {
      "cell_type": "markdown",
      "source": [
        "# Top 10 countries on Netflix"
      ],
      "metadata": {
        "id": "6pOf1ZdTUs8h"
      }
    },
    {
      "cell_type": "code",
      "source": [
        "sns.palplot(['#fafafa', '#4a4a4a', '#e3120b'])\n",
        "\n",
        "color_map = ['#f5f5f1' for _ in range(10)]\n",
        "color_map[0] = color_map[1] = color_map[2] = '#e3120b'\n",
        "\n",
        "# fig, ax = plt.subplots(1, 1, figsize=(12, 6))\n",
        "# ax.bar(df.index, df, width=0.5, edgecolor='darkgrey', linewidth=0.6, color=color_map)"
      ],
      "metadata": {
        "colab": {
          "base_uri": "https://localhost:8080/",
          "height": 85
        },
        "id": "sgLh2aiPUwMr",
        "outputId": "5b33d2b4-231f-4835-899f-341541e1632b"
      },
      "execution_count": 16,
      "outputs": [
        {
          "output_type": "display_data",
          "data": {
            "text/plain": [
              "<Figure size 216x72 with 1 Axes>"
            ],
            "image/png": "[encoded data removed]"
          },
          "metadata": {}
        }
      ]
    }
  ]
}